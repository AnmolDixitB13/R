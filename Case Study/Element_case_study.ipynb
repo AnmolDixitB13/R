{
  "nbformat": 4,
  "nbformat_minor": 0,
  "metadata": {
    "colab": {
      "provenance": []
    },
    "kernelspec": {
      "name": "ir",
      "display_name": "R"
    },
    "language_info": {
      "name": "R"
    }
  },
  "cells": [
    {
      "cell_type": "markdown",
      "source": [
        "# Case study on first 36 elements of the Modern Periodic Table\n",
        "\n",
        "The following details of the elements are present in the dataset file:\n",
        "1. Valency\n",
        "2. Atomic Number\n",
        "3. Atomic Mass\n",
        "4. Block\n",
        "5. Inert Status\n",
        "6. Ionization Energy\n",
        "\n",
        "Few cases have been considered and their answers have been found out by using suitable logic in R programming.\n",
        "\n",
        "# Caution:\n",
        "Please change the colab's runtime environment to **R** before running the codes in this case study, if in case you are getting syntax errors while executing the codes in this case study."
      ],
      "metadata": {
        "id": "EIjNDvSNrchh"
      }
    },
    {
      "cell_type": "code",
      "source": [
        "# Find out the element which has the maximum Atomic Number in the dataset table. Also, find the Atomic\n",
        "# Number of this element.\n",
        "\n",
        "filepath <- 'https://raw.githubusercontent.com/AnmolDixitB13/R/main/Case%20Study/element_database.csv'\n",
        "\n",
        "data <- read.csv(filepath)\n",
        "\n",
        "max_at_no <- max(data$Atomic_Number)\n",
        "print(paste0(\"Maximum atomic number in the list: \", max_at_no))\n",
        "\n",
        "# print(subset(data, data$Atomic_Number == max_at_no))\n",
        "# gives/fetches all the details of the element with highest atomic no\n",
        "\n",
        "print(paste0(\"Name of the element with highest atomic number: \", subset(data$Element, data$Atomic_Number == max_at_no)))\n",
        "# this query fetches only the name of the element with the highest atomic number and not other\n",
        "# details of the elememt\n",
        "\n",
        "# just replace max by min to find out about the element with minimum atomic no\n",
        "\n",
        "#print(subset(data, data$Atomic.Number <- max(data$Atomic.Number)))\n",
        "# use = instead of <-, else we get error subset must be logical"
      ],
      "metadata": {
        "colab": {
          "base_uri": "https://localhost:8080/"
        },
        "id": "AOvv06cjclkp",
        "outputId": "21dba230-aef6-4fe7-e0e3-30c4d7f809cb"
      },
      "execution_count": null,
      "outputs": [
        {
          "output_type": "stream",
          "name": "stdout",
          "text": [
            "[1] \"Maximum atomic number in the list: 36\"\n",
            "[1] \"Name of the element with highest atomic number: Krypton\"\n"
          ]
        }
      ]
    },
    {
      "cell_type": "code",
      "source": [
        "# Find the ionization enthalpy of element with lowest and highest Atomic Numbers present in the dataset\n",
        "# table.\n",
        "\n",
        "filepath <- 'https://raw.githubusercontent.com/AnmolDixitB13/R/main/Case%20Study/element_database.csv'\n",
        "data <- read.csv(filepath)\n",
        "\n",
        "max_at_no <- max(data$Atomic_Number)\n",
        "min_at_no <- min(data$Atomic_Number)\n",
        "\n",
        "ans1 <- subset(data, data$Atomic_Number == max_at_no, select = c(Element, Atomic_Number, Ionization_Energy))\n",
        "ans2 <- subset(data, data$Atomic_Number == min_at_no, select = c(Element, Atomic_Number, Ionization_Energy))\n",
        "\n",
        "print(ans1)\n",
        "print(\"---------------------------------------------------------\")\n",
        "print(ans2)\n",
        "\n",
        "#print(paste0(\"The ionization enthalpy of the element with highest atomic number \", max_at_no, \" is \", max_ion_enth))\n",
        "#print(paste0(\"The ionization enthalpy of the element with lowest atomic number \", min_at_no, \" is \", min_ion_enth))\n",
        "# this way also works fine\n"
      ],
      "metadata": {
        "colab": {
          "base_uri": "https://localhost:8080/"
        },
        "id": "E75GXksLegd3",
        "outputId": "ad9c59c9-0339-4736-8126-57d605f58ab1"
      },
      "execution_count": null,
      "outputs": [
        {
          "output_type": "stream",
          "name": "stdout",
          "text": [
            "   Element Atomic_Number Ionization_Energy\n",
            "36 Krypton            36           13.9996\n",
            "[1] \"---------------------------------------------------------\"\n",
            "   Element Atomic_Number Ionization_Energy\n",
            "1 Hydrogen             1           13.5984\n"
          ]
        }
      ]
    },
    {
      "cell_type": "code",
      "source": [
        "# Find the ionization enthalpies of the elements where Atomic Weights are in range [20, 40], including\n",
        "# the extreme values 20 & 40.\n",
        "\n",
        "filepath <- 'https://raw.githubusercontent.com/AnmolDixitB13/R/main/Case%20Study/element_database.csv'\n",
        "data <- read.csv(filepath)\n",
        "\n",
        "temp <- subset(data, Atomic_Weight >= 20 & Atomic_Weight <= 40, select = c(Element, Ionization_Energy, Atomic_Weight))\n",
        "print(temp)\n",
        "\n"
      ],
      "metadata": {
        "id": "T1R2q6dKiLkY",
        "colab": {
          "base_uri": "https://localhost:8080/"
        },
        "outputId": "4dc4508d-c9d9-478a-f701-1a7e948f2541"
      },
      "execution_count": null,
      "outputs": [
        {
          "output_type": "stream",
          "name": "stdout",
          "text": [
            "       Element Ionization_Energy Atomic_Weight\n",
            "10        Neon           21.5646          20.2\n",
            "11      Sodium            5.1390          23.0\n",
            "12   Magnesium            7.6462          24.3\n",
            "13    Aluminum            5.9857          27.0\n",
            "14     Silicon            8.1516          28.1\n",
            "15 Phosphorous           10.4866          31.0\n",
            "16     Sulphur           10.3600          32.1\n",
            "17    Chlorine           12.9676          35.5\n",
            "18       Argon           15.7596          39.9\n",
            "19   Potassium            4.3406          39.1\n"
          ]
        }
      ]
    },
    {
      "cell_type": "code",
      "source": [
        "# ionization enthalpies of elements where atomic weights are in range [20, 40] and the elements are inert\n",
        "\n",
        "filepath <- 'https://raw.githubusercontent.com/AnmolDixitB13/R/main/Case%20Study/element_database.csv'\n",
        "data <- read.csv(filepath)\n",
        "\n",
        "filtered_data <- subset(data, data$Atomic_Weight >= 20 & data$Atomic_Weight <= 40 & data$Inert_Status=='Inert', select = c(Element, Ionization_Energy, Atomic_Weight))\n",
        "print(filtered_data)\n",
        "\n"
      ],
      "metadata": {
        "colab": {
          "base_uri": "https://localhost:8080/"
        },
        "outputId": "f174f7c3-7f15-48b3-fc3f-ba88f559d6d7",
        "id": "9Rbxri2yqW3S"
      },
      "execution_count": null,
      "outputs": [
        {
          "output_type": "stream",
          "name": "stdout",
          "text": [
            "   Element Ionization_Energy Atomic_Weight\n",
            "10    Neon           21.5646          20.2\n",
            "18   Argon           15.7596          39.9\n"
          ]
        }
      ]
    },
    {
      "cell_type": "code",
      "source": [
        "# Find the ionization enthalpies of the elements where atomic weights are in range [40, 50] units\n",
        "# and the elements belong to d block\n",
        "\n",
        "# steps\n",
        "# 1st method\n",
        "# 1st filter data from the given dataset file and get all the d block elements in a separate variable\n",
        "# filter this data such that we only consider the elements whose atomic weights are in range [40, 50]\n",
        "\n",
        "# alternate method / 2nd method = 1st filter all elements whose at. wt lie between [40, 50]\n",
        "# & then select the ones who belong to d block\n",
        "\n",
        "# ______________________________________________________________________\n",
        "# 1st method solution\n",
        "\n",
        "filepath <- 'https://raw.githubusercontent.com/AnmolDixitB13/R/main/Case%20Study/element_database.csv'\n",
        "data <- read.csv(filepath)\n",
        "\n",
        "filtered_data <- subset(data, data$Block == 'd')\n",
        "# print(filtered_data)\n",
        "\n",
        "final_data <- subset(filtered_data, Atomic_Weight >= 40 & Atomic_Weight <= 50, select = c(Element, Atomic_Weight, Ionization_Energy))\n",
        "print(final_data)\n",
        "\n"
      ],
      "metadata": {
        "colab": {
          "base_uri": "https://localhost:8080/"
        },
        "id": "yCT9ttQ4-hsj",
        "outputId": "33704882-9ac8-48d7-8c16-69fc3a64a38d"
      },
      "execution_count": null,
      "outputs": [
        {
          "output_type": "stream",
          "name": "stdout",
          "text": [
            "    Element Atomic_Weight Ionization_Energy\n",
            "21 Scandium          45.0            6.5615\n",
            "22 Titanium          47.8            6.8281\n"
          ]
        }
      ]
    },
    {
      "cell_type": "code",
      "source": [
        "# Find the ionization energy and the name of the element which has highest ionization energy in the\n",
        "# 1. d block\n",
        "# 2. it's atomic weight lies between [50, 60] units\n",
        "\n",
        "# filter 1 = at wt in range [50, 60] & block = 'd'\n",
        "# order this filtered data based on ionization enthalpy or simply select the one with max ionization enthalpy\n",
        "\n",
        "filepath <- 'https://raw.githubusercontent.com/AnmolDixitB13/R/main/Case%20Study/element_database.csv'\n",
        "data <- read.csv(filepath)\n",
        "\n",
        "filtered_data <- subset(data, Atomic_Weight >= 50 & Atomic_Weight <= 60 & Block == 'd', select = c(Element, Atomic_Weight, Block, Ionization_Energy))\n",
        "#print(filtered_data)\n",
        "\n",
        "final_data <- subset(filtered_data, Ionization_Energy == max(Ionization_Energy), select = c(Element, Atomic_Weight, Ionization_Energy))\n",
        "print(final_data)"
      ],
      "metadata": {
        "colab": {
          "base_uri": "https://localhost:8080/"
        },
        "id": "fgHyjbzdIyJq",
        "outputId": "8a0e1da8-e1f3-47be-a50c-bbaacccbee3b"
      },
      "execution_count": null,
      "outputs": [
        {
          "output_type": "stream",
          "name": "stdout",
          "text": [
            "   Element Atomic_Weight Ionization_Energy\n",
            "26    Iron          55.8            7.9024\n"
          ]
        }
      ]
    },
    {
      "cell_type": "code",
      "source": [
        "# Find the element amongst the elements in the dataset table, that has highest / lowest ion.ization\n",
        "# energy in the table, also find its atomic no.\n",
        "\n",
        "filepath <- 'https://raw.githubusercontent.com/AnmolDixitB13/R/main/Case%20Study/element_database.csv'\n",
        "data <- read.csv(filepath)\n",
        "\n",
        "filtered_data <- subset(data, data$Ionization_Energy == max(data$Ionization_Energy), select = c(Element, Ionization_Energy, Atomic_Number))\n",
        "print(filtered_data)\n",
        "# if in subset, data$Element is written at the place of 1st parameter, instead of data,\n",
        "# then only the name of the element will be printed\n",
        "\n",
        "# just replace max by min to get element with min ionization enthalpy"
      ],
      "metadata": {
        "colab": {
          "base_uri": "https://localhost:8080/"
        },
        "id": "5XHCIrHGlQtO",
        "outputId": "7ee7f06b-dbee-4b88-a848-4e239928430f"
      },
      "execution_count": null,
      "outputs": [
        {
          "output_type": "stream",
          "name": "stdout",
          "text": [
            "  Element Ionization_Energy Atomic_Number\n",
            "2  Helium           24.5874             2\n"
          ]
        }
      ]
    },
    {
      "cell_type": "code",
      "source": [
        "# Which element has highest / lowest ionization enthalpy in\n",
        "# 1. d block\n",
        "# 2. & what is the atomic number of this element\n",
        "\n",
        "# steps\n",
        "# 1st filter all elements, select only d block ones\n",
        "# then apply subset on this filtered data\n",
        "\n",
        "filepath <- 'https://raw.githubusercontent.com/AnmolDixitB13/R/main/Case%20Study/element_database.csv'\n",
        "data <- read.csv(filepath)\n",
        "\n",
        "filtered_data <- subset(data, data$Block == \"d\", select = c(Element, Ionization_Energy, Block, Atomic_Number))\n",
        "# print(filtered_data)\n",
        "\n",
        "final_data <- subset(filtered_data, filtered_data$Ionization_Energy == max(filtered_data$Ionization_Energy))\n",
        "print(final_data)\n",
        "# write filtered_data$Ionization_Energy == max(filtered_data$Ionization_Energy)\n",
        "# writing only max(filtered_data$Ionization_Energy) throws error: subset must be logical\n",
        "\n",
        "final_data2 <- subset(filtered_data, filtered_data$Ionization_Energy == min(filtered_data$Ionization_Energy))\n",
        "print(final_data2)"
      ],
      "metadata": {
        "colab": {
          "base_uri": "https://localhost:8080/"
        },
        "id": "bubDCjbXlUVJ",
        "outputId": "775e6b12-7141-4b23-c07a-cb410e0d98ae"
      },
      "execution_count": null,
      "outputs": [
        {
          "output_type": "stream",
          "name": "stdout",
          "text": [
            "   Element Ionization_Energy Block Atomic_Number\n",
            "30    Zinc            9.3942     d            30\n",
            "    Element Ionization_Energy Block Atomic_Number\n",
            "21 Scandium            6.5615     d            21\n"
          ]
        }
      ]
    },
    {
      "cell_type": "code",
      "source": [
        "# Find the element with highest ionization enthalpy in p block in both categories - inert & non inert\n",
        "\n",
        "# 1st filter all elements, select only p block ones\n",
        "# then apply subset on this filtered data\n",
        "\n",
        "filepath <- 'https://raw.githubusercontent.com/AnmolDixitB13/R/main/Case%20Study/element_database.csv'\n",
        "data <- read.csv(filepath)\n",
        "#print(data)\n",
        "\n",
        "filtered_data_p <- subset(data, data$Block == 'p')\n",
        "#print(filtered_data_p)\n",
        "\n",
        "filtered_data_p_non_inert <- subset(filtered_data_p, Inert_Status == \"Non inert\", select = c(Element, Block, Ionization_Energy, Inert_Status))\n",
        "#print(filtered_data_p_non_inert)\n",
        "\n",
        "#print(\"------------------------------------------------------------------\")\n",
        "\n",
        "filtered_data_p_inert <- subset(filtered_data_p, Inert_Status == \"Inert\", select = c(Element, Block, Ionization_Energy, Inert_Status))\n",
        "#print(filtered_data_p_inert)\n",
        "\n",
        "#print(\"___________________________________________________________________\")\n",
        "\n",
        "ans1 <- subset(filtered_data_p_inert, Ionization_Energy == max(Ionization_Energy), select = c(Element, Block, Ionization_Energy, Inert_Status))\n",
        "\n",
        "ans2 <- subset(filtered_data_p_non_inert, Ionization_Energy == max(Ionization_Energy), select = c(Element, Block, Ionization_Energy, Inert_Status))\n",
        "\n",
        "print(ans1)\n",
        "print(\"------------------------------------------------------------------\")\n",
        "print(ans2)\n",
        "\n",
        "\n"
      ],
      "metadata": {
        "colab": {
          "base_uri": "https://localhost:8080/"
        },
        "id": "zWvc0y-MSwfN",
        "outputId": "59ad4464-4635-4163-863c-22590694480d"
      },
      "execution_count": null,
      "outputs": [
        {
          "output_type": "stream",
          "name": "stdout",
          "text": [
            "  Element Block Ionization_Energy Inert_Status\n",
            "2  Helium     p           24.5874        Inert\n",
            "[1] \"------------------------------------------------------------------\"\n",
            "   Element Block Ionization_Energy Inert_Status\n",
            "9 Fluorine     p           17.4228    Non inert\n"
          ]
        }
      ]
    },
    {
      "cell_type": "code",
      "source": [
        "# arrange d block elements in the order of increasing ionization energies\n",
        "\n",
        "filepath <- 'https://raw.githubusercontent.com/AnmolDixitB13/R/main/Case%20Study/element_database.csv'\n",
        "data <- read.csv(filepath)\n",
        "\n",
        "filtered_data <- subset(data, data$Block == 'd', select = c(Element, Block, Ionization_Energy))\n",
        "#print(filtered_data)\n",
        "\n",
        "# final_data <- filtered_data$Ionization_Energy[order(filtered_data$Ionization_Energy, decreasing = TRUE)]\n",
        "# print(final_data)\n",
        "# working fine\n",
        "\n",
        "# df <- data.frame(filtered_data)\n",
        "#print(df)\n",
        "\n",
        "#final_data <- df[order(df$Ionization_Energy, decreasing = TRUE), ]\n",
        "final_data <- filtered_data[order(filtered_data$Ionization_Energy, decreasing = FALSE), ]\n",
        "print(final_data)\n",
        "# both the methods work - with and without dataframes\n",
        "\n",
        "# https://www.datacamp.com/tutorial/sorting-in-r"
      ],
      "metadata": {
        "id": "wdR1AsmglU9J",
        "colab": {
          "base_uri": "https://localhost:8080/"
        },
        "outputId": "6f4db488-94ca-4c2f-8766-13dfe1fe2534"
      },
      "execution_count": null,
      "outputs": [
        {
          "output_type": "stream",
          "name": "stdout",
          "text": [
            "     Element Block Ionization_Energy\n",
            "21  Scandium     d            6.5615\n",
            "23  Vanadium     d            6.7462\n",
            "24  Chromium     d            6.7665\n",
            "22  Titanium     d            6.8281\n",
            "25 Manganese     d            7.4340\n",
            "27    Cobalt     d            7.6398\n",
            "29    Copper     d            7.7263\n",
            "28    Nickel     d            7.8810\n",
            "26      Iron     d            7.9024\n",
            "30      Zinc     d            9.3942\n"
          ]
        }
      ]
    },
    {
      "cell_type": "code",
      "source": [
        "# Find the element that has max & min ionization energy where the atomic numbers are in range 15 & 25,\n",
        "# including these 2 values\n",
        "\n",
        "filepath <- 'https://raw.githubusercontent.com/AnmolDixitB13/R/main/Case%20Study/element_database.csv'\n",
        "data <- read.csv(filepath)\n",
        "\n",
        "filtered_data <- subset(data, data$Atomic_Number >= 15 & data$Atomic_Number <= 25, select = c(Element, Atomic_Number, Ionization_Energy))\n",
        "# avoid writing data$Ionization_Energy in vector in select parameter of subset function,\n",
        "# else it throws error 'undefined columns selected'\n",
        "# print(filtered_data)\n",
        "\n",
        "ans <- subset(filtered_data, Ionization_Energy == max(Ionization_Energy), select = c(Element, Atomic_Number, Ionization_Energy))\n",
        "print(ans)\n",
        "\n",
        "# use min() function to find the one with minimum Ionization Energy"
      ],
      "metadata": {
        "colab": {
          "base_uri": "https://localhost:8080/"
        },
        "id": "-L6XLxc6yp3U",
        "outputId": "924ef352-ccc3-4344-fc5d-7ebe1d55264e"
      },
      "execution_count": null,
      "outputs": [
        {
          "output_type": "stream",
          "name": "stdout",
          "text": [
            "   Element Atomic_Number Ionization_Energy\n",
            "18   Argon            18           15.7596\n"
          ]
        }
      ]
    }
  ]
}