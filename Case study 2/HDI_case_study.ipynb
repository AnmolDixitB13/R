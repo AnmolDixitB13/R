{
  "nbformat": 4,
  "nbformat_minor": 0,
  "metadata": {
    "colab": {
      "provenance": []
    },
    "kernelspec": {
      "name": "ir",
      "display_name": "R"
    },
    "language_info": {
      "name": "R"
    }
  },
  "cells": [
    {
      "cell_type": "markdown",
      "source": [
        "#Case Study on Countries based on their HDI (Human Development Index)\n",
        "\n",
        "HDI is a parameter that measures the quality of life of the people of a country based on the parameters listed below:\n",
        "1. Life expectancy at birth\n",
        "2. People's overall knowledge (adult literacy, rate of enrollment of students from primary schools upto the university level)\n",
        "3. Standard of Living\n",
        "\n",
        "Countries' comparisons have been made based on the following parameters:\n",
        "1. Continent on which the country is located\n",
        "2. Country's HDI value in 2022 (latest year's data)\n",
        "3. Country's HDI value in 2021\n",
        "4. Change in country's HDI value in 2022 w.r.t. year 2021\n",
        "5. Mean years of schooling\n",
        "6. Gross national per capital income\n",
        "\n",
        "Some other parameters that are also present for reference include:\n",
        "1. Life expectancy at birth\n",
        "2. Expected years of schooling\n",
        "\n",
        "\n",
        "#Caution:\n",
        "\n",
        "Please change the colab's environment to **R** before running the codes in this report, else you may get syntax errors while running the codes in this report.\n",
        "\n"
      ],
      "metadata": {
        "id": "8wBSSY_WyoA9"
      }
    },
    {
      "cell_type": "code",
      "source": [
        "filepath = 'https://raw.githubusercontent.com/AnmolDixitB13/R/main/Case%20study%202/cleaned_hdi_with_calculations.csv'\n",
        "# the place (on github) where the dataset file is stored\n",
        "\n",
        "data <- read.csv(filepath)\n",
        "\n",
        "head(data, 5)\n",
        "# just to verify whether the program is able to fetch the file correctly or not"
      ],
      "metadata": {
        "colab": {
          "base_uri": "https://localhost:8080/",
          "height": 362
        },
        "id": "OcttxJVPypkS",
        "outputId": "00212221-9f5a-44b2-9faf-14a0cfc59ae2"
      },
      "execution_count": null,
      "outputs": [
        {
          "output_type": "display_data",
          "data": {
            "text/html": [
              "<table class=\"dataframe\">\n",
              "<caption>A data.frame: 5 × 14</caption>\n",
              "<thead>\n",
              "\t<tr><th></th><th scope=col>X</th><th scope=col>Country</th><th scope=col>HDI_Tier</th><th scope=col>HDI_2022</th><th scope=col>HDI_2021</th><th scope=col>HDI_1990</th><th scope=col>Continent</th><th scope=col>HDI_Rank</th><th scope=col>Life_Expectancy_At_Birth_Years_2022</th><th scope=col>Expected_Years_Of_Schooling_Years_2022</th><th scope=col>Mean_Years_Of_Schooling_Years_2022</th><th scope=col>Gross_National_Income_Per_Capital_2022</th><th scope=col>Change_HDI_2022_21</th><th scope=col>Result_HDI_2022_21</th></tr>\n",
              "\t<tr><th></th><th scope=col>&lt;int&gt;</th><th scope=col>&lt;chr&gt;</th><th scope=col>&lt;chr&gt;</th><th scope=col>&lt;dbl&gt;</th><th scope=col>&lt;dbl&gt;</th><th scope=col>&lt;dbl&gt;</th><th scope=col>&lt;chr&gt;</th><th scope=col>&lt;int&gt;</th><th scope=col>&lt;dbl&gt;</th><th scope=col>&lt;dbl&gt;</th><th scope=col>&lt;dbl&gt;</th><th scope=col>&lt;int&gt;</th><th scope=col>&lt;dbl&gt;</th><th scope=col>&lt;chr&gt;</th></tr>\n",
              "</thead>\n",
              "<tbody>\n",
              "\t<tr><th scope=row>1</th><td>1</td><td>Afghanistan</td><td>Low      </td><td>0.462</td><td>0.473</td><td>0.284</td><td>Asia         </td><td>182</td><td>62.9</td><td>10.7</td><td> 2.5</td><td> 1335</td><td>-0.011</td><td>Negative / Deterioration</td></tr>\n",
              "\t<tr><th scope=row>2</th><td>2</td><td>Albania    </td><td>High     </td><td>0.789</td><td>0.785</td><td>0.649</td><td>Europe       </td><td> 74</td><td>76.8</td><td>14.5</td><td>10.1</td><td>15293</td><td> 0.004</td><td>Positive / Improvement  </td></tr>\n",
              "\t<tr><th scope=row>3</th><td>3</td><td>Algeria    </td><td>High     </td><td>0.745</td><td>0.740</td><td>0.593</td><td>Africa       </td><td> 93</td><td>77.1</td><td>15.5</td><td> 7.0</td><td>10978</td><td> 0.005</td><td>Positive / Improvement  </td></tr>\n",
              "\t<tr><th scope=row>4</th><td>4</td><td>Argentina  </td><td>Very High</td><td>0.849</td><td>0.844</td><td>0.724</td><td>South America</td><td> 48</td><td>76.1</td><td>19.0</td><td>11.1</td><td>22048</td><td> 0.005</td><td>Positive / Improvement  </td></tr>\n",
              "\t<tr><th scope=row>5</th><td>5</td><td>Armenia    </td><td>High     </td><td>0.786</td><td>0.774</td><td>0.658</td><td>Asia         </td><td> 76</td><td>73.4</td><td>14.4</td><td>11.3</td><td>15388</td><td> 0.012</td><td>Positive / Improvement  </td></tr>\n",
              "</tbody>\n",
              "</table>\n"
            ],
            "text/markdown": "\nA data.frame: 5 × 14\n\n| <!--/--> | X &lt;int&gt; | Country &lt;chr&gt; | HDI_Tier &lt;chr&gt; | HDI_2022 &lt;dbl&gt; | HDI_2021 &lt;dbl&gt; | HDI_1990 &lt;dbl&gt; | Continent &lt;chr&gt; | HDI_Rank &lt;int&gt; | Life_Expectancy_At_Birth_Years_2022 &lt;dbl&gt; | Expected_Years_Of_Schooling_Years_2022 &lt;dbl&gt; | Mean_Years_Of_Schooling_Years_2022 &lt;dbl&gt; | Gross_National_Income_Per_Capital_2022 &lt;int&gt; | Change_HDI_2022_21 &lt;dbl&gt; | Result_HDI_2022_21 &lt;chr&gt; |\n|---|---|---|---|---|---|---|---|---|---|---|---|---|---|---|\n| 1 | 1 | Afghanistan | Low       | 0.462 | 0.473 | 0.284 | Asia          | 182 | 62.9 | 10.7 |  2.5 |  1335 | -0.011 | Negative / Deterioration |\n| 2 | 2 | Albania     | High      | 0.789 | 0.785 | 0.649 | Europe        |  74 | 76.8 | 14.5 | 10.1 | 15293 |  0.004 | Positive / Improvement   |\n| 3 | 3 | Algeria     | High      | 0.745 | 0.740 | 0.593 | Africa        |  93 | 77.1 | 15.5 |  7.0 | 10978 |  0.005 | Positive / Improvement   |\n| 4 | 4 | Argentina   | Very High | 0.849 | 0.844 | 0.724 | South America |  48 | 76.1 | 19.0 | 11.1 | 22048 |  0.005 | Positive / Improvement   |\n| 5 | 5 | Armenia     | High      | 0.786 | 0.774 | 0.658 | Asia          |  76 | 73.4 | 14.4 | 11.3 | 15388 |  0.012 | Positive / Improvement   |\n\n",
            "text/latex": "A data.frame: 5 × 14\n\\begin{tabular}{r|llllllllllllll}\n  & X & Country & HDI\\_Tier & HDI\\_2022 & HDI\\_2021 & HDI\\_1990 & Continent & HDI\\_Rank & Life\\_Expectancy\\_At\\_Birth\\_Years\\_2022 & Expected\\_Years\\_Of\\_Schooling\\_Years\\_2022 & Mean\\_Years\\_Of\\_Schooling\\_Years\\_2022 & Gross\\_National\\_Income\\_Per\\_Capital\\_2022 & Change\\_HDI\\_2022\\_21 & Result\\_HDI\\_2022\\_21\\\\\n  & <int> & <chr> & <chr> & <dbl> & <dbl> & <dbl> & <chr> & <int> & <dbl> & <dbl> & <dbl> & <int> & <dbl> & <chr>\\\\\n\\hline\n\t1 & 1 & Afghanistan & Low       & 0.462 & 0.473 & 0.284 & Asia          & 182 & 62.9 & 10.7 &  2.5 &  1335 & -0.011 & Negative / Deterioration\\\\\n\t2 & 2 & Albania     & High      & 0.789 & 0.785 & 0.649 & Europe        &  74 & 76.8 & 14.5 & 10.1 & 15293 &  0.004 & Positive / Improvement  \\\\\n\t3 & 3 & Algeria     & High      & 0.745 & 0.740 & 0.593 & Africa        &  93 & 77.1 & 15.5 &  7.0 & 10978 &  0.005 & Positive / Improvement  \\\\\n\t4 & 4 & Argentina   & Very High & 0.849 & 0.844 & 0.724 & South America &  48 & 76.1 & 19.0 & 11.1 & 22048 &  0.005 & Positive / Improvement  \\\\\n\t5 & 5 & Armenia     & High      & 0.786 & 0.774 & 0.658 & Asia          &  76 & 73.4 & 14.4 & 11.3 & 15388 &  0.012 & Positive / Improvement  \\\\\n\\end{tabular}\n",
            "text/plain": [
              "  X Country     HDI_Tier  HDI_2022 HDI_2021 HDI_1990 Continent     HDI_Rank\n",
              "1 1 Afghanistan Low       0.462    0.473    0.284    Asia          182     \n",
              "2 2 Albania     High      0.789    0.785    0.649    Europe         74     \n",
              "3 3 Algeria     High      0.745    0.740    0.593    Africa         93     \n",
              "4 4 Argentina   Very High 0.849    0.844    0.724    South America  48     \n",
              "5 5 Armenia     High      0.786    0.774    0.658    Asia           76     \n",
              "  Life_Expectancy_At_Birth_Years_2022 Expected_Years_Of_Schooling_Years_2022\n",
              "1 62.9                                10.7                                  \n",
              "2 76.8                                14.5                                  \n",
              "3 77.1                                15.5                                  \n",
              "4 76.1                                19.0                                  \n",
              "5 73.4                                14.4                                  \n",
              "  Mean_Years_Of_Schooling_Years_2022 Gross_National_Income_Per_Capital_2022\n",
              "1  2.5                                1335                                 \n",
              "2 10.1                               15293                                 \n",
              "3  7.0                               10978                                 \n",
              "4 11.1                               22048                                 \n",
              "5 11.3                               15388                                 \n",
              "  Change_HDI_2022_21 Result_HDI_2022_21      \n",
              "1 -0.011             Negative / Deterioration\n",
              "2  0.004             Positive / Improvement  \n",
              "3  0.005             Positive / Improvement  \n",
              "4  0.005             Positive / Improvement  \n",
              "5  0.012             Positive / Improvement  "
            ]
          },
          "metadata": {}
        }
      ]
    },
    {
      "cell_type": "code",
      "source": [
        "# Countries having highest HDI from all the continents\n",
        "\n",
        "filepath = 'https://raw.githubusercontent.com/AnmolDixitB13/R/main/Case%20study%202/cleaned_hdi_with_calculations.csv'\n",
        "# the place (on github) where the dataset file is stored\n",
        "\n",
        "data <- read.csv(filepath)\n",
        "\n",
        "fac_cont <- factor(data$Continent)\n",
        "continent_list <- c(levels(fac_cont))\n",
        "\n",
        "# Initialize an empty list\n",
        "temp <- list()\n",
        "\n",
        "for(i in 1: length(continent_list)){\n",
        "  filtered_data <- subset(data, Continent == continent_list[i], select = c(Country, Continent, HDI_2022))\n",
        "  # Append the result to the list\n",
        "  temp[[i]] <- subset(filtered_data, HDI_2022 == max(HDI_2022))\n",
        "}\n",
        "\n",
        "# Access each element in the list\n",
        "for(i in 1: length(continent_list)){\n",
        "cat(\"Continent:\", continent_list[i], \"\\n\")\n",
        "cat(\"Country with highest HDI:\", temp[[i]]$Country, \"\\n\")\n",
        "cat(\"HDI Value:\", temp[[i]]$HDI_2022, \"\\n\\n\")\n",
        "}\n",
        "\n",
        "# No, you can't use a vector for temp in this R code. You are iteratively subsetting your data based on\n",
        "# continents and storing the result of each iteration. Vectors in R are designed to hold elements of the\n",
        "# same data type, whereas, in this case, you are trying to store a list of dataframes. Using a list\n",
        "# allows you to store and access these different dataframes effectively.\n"
      ],
      "metadata": {
        "colab": {
          "base_uri": "https://localhost:8080/"
        },
        "id": "sx7bx4zzDXmH",
        "outputId": "497e9982-dbd6-4ff9-914d-105961461bea"
      },
      "execution_count": null,
      "outputs": [
        {
          "output_type": "stream",
          "name": "stdout",
          "text": [
            "Continent: Africa \n",
            "Country with highest HDI: Mauritius \n",
            "HDI Value: 0.796 \n",
            "\n",
            "Continent: Asia \n",
            "Country with highest HDI: Singapore \n",
            "HDI Value: 0.949 \n",
            "\n",
            "Continent: Europe \n",
            "Country with highest HDI: Switzerland \n",
            "HDI Value: 0.967 \n",
            "\n",
            "Continent: North America \n",
            "Country with highest HDI: Canada \n",
            "HDI Value: 0.935 \n",
            "\n",
            "Continent: Oceania \n",
            "Country with highest HDI: Australia \n",
            "HDI Value: 0.946 \n",
            "\n",
            "Continent: South America \n",
            "Country with highest HDI: Chile \n",
            "HDI Value: 0.86 \n",
            "\n",
            "Continent: Transcontinental \n",
            "Country with highest HDI: Cyprus \n",
            "HDI Value: 0.907 \n",
            "\n"
          ]
        }
      ]
    },
    {
      "cell_type": "code",
      "source": [
        "# Countries where change of hdi in 2022 is highest in both the directions i.e. country which witnessed the\n",
        "# maximum improvement and maximum deterioration of hdi in the year 2022 wrt the year 2021.\n",
        "\n",
        "# steps\n",
        "# 1st filter data suitably i.e. the countries that saw improvement / deterioration of hdi\n",
        "# then apply subset on them separately\n",
        "\n",
        "filepath = 'https://raw.githubusercontent.com/AnmolDixitB13/R/main/Case%20study%202/cleaned_hdi_with_calculations.csv'\n",
        "# the place (on github) where the dataset file is stored\n",
        "\n",
        "data <- read.csv(filepath)\n",
        "# print(head(data))\n",
        "\n",
        "data_improvement <- subset(data, Result_HDI_2022_21 == \"Positive / Improvement\", select = c(Country, Change_HDI_2022_21, Result_HDI_2022_21, HDI_2022, HDI_2021))\n",
        "temp_imp <- subset(data_improvement, Change_HDI_2022_21 == max(Change_HDI_2022_21))\n",
        "\n",
        "data_deterioration <- subset(data, Result_HDI_2022_21 == \"Negative / Deterioration\", select = c(Country, Change_HDI_2022_21, Result_HDI_2022_21, HDI_2022, HDI_2021))\n",
        "temp_det <- subset(data_deterioration, Change_HDI_2022_21 == min(Change_HDI_2022_21))\n",
        "# min is used instead of max because in case of deterioration, the change will be negative\n",
        "# so we have to choose the value which is the most negative which will correspond to highest change\n",
        "# in the negative direction\n",
        "\n",
        "print(\"Highest Improvement of HDI in 2022 w.r.t. 2021.\")\n",
        "temp_imp\n",
        "\n",
        "print('______________________________________________________________')\n",
        "print(\"Highest Deterioration of HDI in 2022 w.r.t. 2021.\")\n",
        "temp_det\n",
        "\n"
      ],
      "metadata": {
        "colab": {
          "base_uri": "https://localhost:8080/",
          "height": 294
        },
        "id": "1zHiGimYDWV7",
        "outputId": "e58f164d-3f5f-41a7-afcf-1b4bac023142"
      },
      "execution_count": null,
      "outputs": [
        {
          "output_type": "stream",
          "name": "stdout",
          "text": [
            "[1] \"Highest Improvement of HDI in 2022 w.r.t. 2021.\"\n"
          ]
        },
        {
          "output_type": "display_data",
          "data": {
            "text/html": [
              "<table class=\"dataframe\">\n",
              "<caption>A data.frame: 1 × 5</caption>\n",
              "<thead>\n",
              "\t<tr><th></th><th scope=col>Country</th><th scope=col>Change_HDI_2022_21</th><th scope=col>Result_HDI_2022_21</th><th scope=col>HDI_2022</th><th scope=col>HDI_2021</th></tr>\n",
              "\t<tr><th></th><th scope=col>&lt;chr&gt;</th><th scope=col>&lt;dbl&gt;</th><th scope=col>&lt;chr&gt;</th><th scope=col>&lt;dbl&gt;</th><th scope=col>&lt;dbl&gt;</th></tr>\n",
              "</thead>\n",
              "<tbody>\n",
              "\t<tr><th scope=row>15</th><td>Botswana</td><td>0.028</td><td>Positive / Improvement</td><td>0.708</td><td>0.68</td></tr>\n",
              "</tbody>\n",
              "</table>\n"
            ],
            "text/markdown": "\nA data.frame: 1 × 5\n\n| <!--/--> | Country &lt;chr&gt; | Change_HDI_2022_21 &lt;dbl&gt; | Result_HDI_2022_21 &lt;chr&gt; | HDI_2022 &lt;dbl&gt; | HDI_2021 &lt;dbl&gt; |\n|---|---|---|---|---|---|\n| 15 | Botswana | 0.028 | Positive / Improvement | 0.708 | 0.68 |\n\n",
            "text/latex": "A data.frame: 1 × 5\n\\begin{tabular}{r|lllll}\n  & Country & Change\\_HDI\\_2022\\_21 & Result\\_HDI\\_2022\\_21 & HDI\\_2022 & HDI\\_2021\\\\\n  & <chr> & <dbl> & <chr> & <dbl> & <dbl>\\\\\n\\hline\n\t15 & Botswana & 0.028 & Positive / Improvement & 0.708 & 0.68\\\\\n\\end{tabular}\n",
            "text/plain": [
              "   Country  Change_HDI_2022_21 Result_HDI_2022_21     HDI_2022 HDI_2021\n",
              "15 Botswana 0.028              Positive / Improvement 0.708    0.68    "
            ]
          },
          "metadata": {}
        },
        {
          "output_type": "stream",
          "name": "stdout",
          "text": [
            "[1] \"______________________________________________________________\"\n",
            "[1] \"Highest Deterioration of HDI in 2022 w.r.t. 2021.\"\n"
          ]
        },
        {
          "output_type": "display_data",
          "data": {
            "text/html": [
              "<table class=\"dataframe\">\n",
              "<caption>A data.frame: 1 × 5</caption>\n",
              "<thead>\n",
              "\t<tr><th></th><th scope=col>Country</th><th scope=col>Change_HDI_2022_21</th><th scope=col>Result_HDI_2022_21</th><th scope=col>HDI_2022</th><th scope=col>HDI_2021</th></tr>\n",
              "\t<tr><th></th><th scope=col>&lt;chr&gt;</th><th scope=col>&lt;dbl&gt;</th><th scope=col>&lt;chr&gt;</th><th scope=col>&lt;dbl&gt;</th><th scope=col>&lt;dbl&gt;</th></tr>\n",
              "</thead>\n",
              "<tbody>\n",
              "\t<tr><th scope=row>117</th><td>Ukraine</td><td>-0.021</td><td>Negative / Deterioration</td><td>0.734</td><td>0.755</td></tr>\n",
              "</tbody>\n",
              "</table>\n"
            ],
            "text/markdown": "\nA data.frame: 1 × 5\n\n| <!--/--> | Country &lt;chr&gt; | Change_HDI_2022_21 &lt;dbl&gt; | Result_HDI_2022_21 &lt;chr&gt; | HDI_2022 &lt;dbl&gt; | HDI_2021 &lt;dbl&gt; |\n|---|---|---|---|---|---|\n| 117 | Ukraine | -0.021 | Negative / Deterioration | 0.734 | 0.755 |\n\n",
            "text/latex": "A data.frame: 1 × 5\n\\begin{tabular}{r|lllll}\n  & Country & Change\\_HDI\\_2022\\_21 & Result\\_HDI\\_2022\\_21 & HDI\\_2022 & HDI\\_2021\\\\\n  & <chr> & <dbl> & <chr> & <dbl> & <dbl>\\\\\n\\hline\n\t117 & Ukraine & -0.021 & Negative / Deterioration & 0.734 & 0.755\\\\\n\\end{tabular}\n",
            "text/plain": [
              "    Country Change_HDI_2022_21 Result_HDI_2022_21       HDI_2022 HDI_2021\n",
              "117 Ukraine -0.021             Negative / Deterioration 0.734    0.755   "
            ]
          },
          "metadata": {}
        }
      ]
    },
    {
      "cell_type": "code",
      "source": [
        "# Countries that improved in terms of hdi in 2022 w.r.t. 2021 from africa, asia.\n",
        "\n",
        "# Steps\n",
        "# Either shortlist all countries that whose HDI has improved, then filter the list w.r.t. continents\n",
        "# Or shortlist all the countries from Asia & Africa & then apply filter to this data & choose the\n",
        "# countries that have Positive Result\n",
        "\n",
        "# method 1:\n",
        "\n",
        "filepath = 'https://raw.githubusercontent.com/AnmolDixitB13/R/main/Case%20study%202/cleaned_hdi_with_calculations.csv'\n",
        "# the place (on github) where the dataset file is stored\n",
        "\n",
        "data <- read.csv(filepath)\n",
        "\n",
        "data_improvement <- subset(data, Result_HDI_2022_21 == \"Positive / Improvement\", select = c(Country, Continent, Change_HDI_2022_21, Result_HDI_2022_21, HDI_2022, HDI_2021))\n",
        "temp_imp <- subset(data_improvement, Continent %in% c(\"Asia\", \"Africa\"))\n",
        "temp_imp\n",
        "\n",
        "# temp_imp <- subset(data_improvement, !Continent %in% c(\"Asia\", \"Africa\"))\n",
        "# fetches data of the countries all continents except Asia & Africa\n"
      ],
      "metadata": {
        "colab": {
          "base_uri": "https://localhost:8080/",
          "height": 1000
        },
        "id": "qaIXeq7DDWuZ",
        "outputId": "2e4bf536-e731-423e-968d-30581c64db34"
      },
      "execution_count": null,
      "outputs": [
        {
          "output_type": "display_data",
          "data": {
            "text/html": [
              "<table class=\"dataframe\">\n",
              "<caption>A data.frame: 49 × 6</caption>\n",
              "<thead>\n",
              "\t<tr><th></th><th scope=col>Country</th><th scope=col>Continent</th><th scope=col>Change_HDI_2022_21</th><th scope=col>Result_HDI_2022_21</th><th scope=col>HDI_2022</th><th scope=col>HDI_2021</th></tr>\n",
              "\t<tr><th></th><th scope=col>&lt;chr&gt;</th><th scope=col>&lt;chr&gt;</th><th scope=col>&lt;dbl&gt;</th><th scope=col>&lt;chr&gt;</th><th scope=col>&lt;dbl&gt;</th><th scope=col>&lt;dbl&gt;</th></tr>\n",
              "</thead>\n",
              "<tbody>\n",
              "\t<tr><th scope=row>3</th><td>Algeria              </td><td>Africa</td><td>0.005</td><td>Positive / Improvement</td><td>0.745</td><td>0.740</td></tr>\n",
              "\t<tr><th scope=row>5</th><td>Armenia              </td><td>Asia  </td><td>0.012</td><td>Positive / Improvement</td><td>0.786</td><td>0.774</td></tr>\n",
              "\t<tr><th scope=row>9</th><td>Bahrain              </td><td>Asia  </td><td>0.004</td><td>Positive / Improvement</td><td>0.888</td><td>0.884</td></tr>\n",
              "\t<tr><th scope=row>10</th><td>Bangladesh           </td><td>Asia  </td><td>0.008</td><td>Positive / Improvement</td><td>0.670</td><td>0.662</td></tr>\n",
              "\t<tr><th scope=row>14</th><td>Benin                </td><td>Africa</td><td>0.002</td><td>Positive / Improvement</td><td>0.504</td><td>0.502</td></tr>\n",
              "\t<tr><th scope=row>15</th><td>Botswana             </td><td>Africa</td><td>0.028</td><td>Positive / Improvement</td><td>0.708</td><td>0.680</td></tr>\n",
              "\t<tr><th scope=row>18</th><td>Burundi              </td><td>Africa</td><td>0.001</td><td>Positive / Improvement</td><td>0.420</td><td>0.419</td></tr>\n",
              "\t<tr><th scope=row>19</th><td>Cambodia             </td><td>Asia  </td><td>0.004</td><td>Positive / Improvement</td><td>0.600</td><td>0.596</td></tr>\n",
              "\t<tr><th scope=row>20</th><td>Cameroon             </td><td>Africa</td><td>0.006</td><td>Positive / Improvement</td><td>0.587</td><td>0.581</td></tr>\n",
              "\t<tr><th scope=row>24</th><td>China                </td><td>Asia  </td><td>0.003</td><td>Positive / Improvement</td><td>0.788</td><td>0.785</td></tr>\n",
              "\t<tr><th scope=row>32</th><td>Egypt                </td><td>Africa</td><td>0.002</td><td>Positive / Improvement</td><td>0.728</td><td>0.726</td></tr>\n",
              "\t<tr><th scope=row>38</th><td>Gabon                </td><td>Africa</td><td>0.006</td><td>Positive / Improvement</td><td>0.693</td><td>0.687</td></tr>\n",
              "\t<tr><th scope=row>39</th><td>Gambia               </td><td>Africa</td><td>0.005</td><td>Positive / Improvement</td><td>0.495</td><td>0.490</td></tr>\n",
              "\t<tr><th scope=row>41</th><td>Ghana                </td><td>Africa</td><td>0.002</td><td>Positive / Improvement</td><td>0.602</td><td>0.600</td></tr>\n",
              "\t<tr><th scope=row>44</th><td>Guinea               </td><td>Africa</td><td>0.004</td><td>Positive / Improvement</td><td>0.471</td><td>0.467</td></tr>\n",
              "\t<tr><th scope=row>50</th><td>India                </td><td>Asia  </td><td>0.011</td><td>Positive / Improvement</td><td>0.644</td><td>0.633</td></tr>\n",
              "\t<tr><th scope=row>51</th><td>Indonesia            </td><td>Asia  </td><td>0.006</td><td>Positive / Improvement</td><td>0.713</td><td>0.707</td></tr>\n",
              "\t<tr><th scope=row>52</th><td>Iraq                 </td><td>Asia  </td><td>0.006</td><td>Positive / Improvement</td><td>0.673</td><td>0.667</td></tr>\n",
              "\t<tr><th scope=row>54</th><td>Israel               </td><td>Asia  </td><td>0.004</td><td>Positive / Improvement</td><td>0.915</td><td>0.911</td></tr>\n",
              "\t<tr><th scope=row>59</th><td>Kazakhstan           </td><td>Asia  </td><td>0.001</td><td>Positive / Improvement</td><td>0.802</td><td>0.801</td></tr>\n",
              "\t<tr><th scope=row>60</th><td>Kenya                </td><td>Africa</td><td>0.005</td><td>Positive / Improvement</td><td>0.601</td><td>0.596</td></tr>\n",
              "\t<tr><th scope=row>61</th><td>Kuwait               </td><td>Asia  </td><td>0.011</td><td>Positive / Improvement</td><td>0.847</td><td>0.836</td></tr>\n",
              "\t<tr><th scope=row>62</th><td>Kyrgyzstan           </td><td>Asia  </td><td>0.005</td><td>Positive / Improvement</td><td>0.701</td><td>0.696</td></tr>\n",
              "\t<tr><th scope=row>69</th><td>Malaysia             </td><td>Asia  </td><td>0.009</td><td>Positive / Improvement</td><td>0.807</td><td>0.798</td></tr>\n",
              "\t<tr><th scope=row>70</th><td>Mali                 </td><td>Africa</td><td>0.002</td><td>Positive / Improvement</td><td>0.410</td><td>0.408</td></tr>\n",
              "\t<tr><th scope=row>72</th><td>Mauritania           </td><td>Africa</td><td>0.002</td><td>Positive / Improvement</td><td>0.540</td><td>0.538</td></tr>\n",
              "\t<tr><th scope=row>73</th><td>Mauritius            </td><td>Africa</td><td>0.006</td><td>Positive / Improvement</td><td>0.796</td><td>0.790</td></tr>\n",
              "\t<tr><th scope=row>75</th><td>Mongolia             </td><td>Asia  </td><td>0.011</td><td>Positive / Improvement</td><td>0.741</td><td>0.730</td></tr>\n",
              "\t<tr><th scope=row>76</th><td>Morocco              </td><td>Africa</td><td>0.010</td><td>Positive / Improvement</td><td>0.698</td><td>0.688</td></tr>\n",
              "\t<tr><th scope=row>77</th><td>Mozambique           </td><td>Africa</td><td>0.002</td><td>Positive / Improvement</td><td>0.461</td><td>0.459</td></tr>\n",
              "\t<tr><th scope=row>78</th><td>Myanmar              </td><td>Asia  </td><td>0.009</td><td>Positive / Improvement</td><td>0.608</td><td>0.599</td></tr>\n",
              "\t<tr><th scope=row>80</th><td>Nepal                </td><td>Asia  </td><td>0.010</td><td>Positive / Improvement</td><td>0.601</td><td>0.591</td></tr>\n",
              "\t<tr><th scope=row>84</th><td>Niger                </td><td>Africa</td><td>0.005</td><td>Positive / Improvement</td><td>0.394</td><td>0.389</td></tr>\n",
              "\t<tr><th scope=row>86</th><td>Pakistan             </td><td>Asia  </td><td>0.003</td><td>Positive / Improvement</td><td>0.540</td><td>0.537</td></tr>\n",
              "\t<tr><th scope=row>91</th><td>Philippines          </td><td>Asia  </td><td>0.018</td><td>Positive / Improvement</td><td>0.710</td><td>0.692</td></tr>\n",
              "\t<tr><th scope=row>94</th><td>Qatar                </td><td>Asia  </td><td>0.011</td><td>Positive / Improvement</td><td>0.875</td><td>0.864</td></tr>\n",
              "\t<tr><th scope=row>98</th><td>Sao Tome and Principe</td><td>Africa</td><td>0.004</td><td>Positive / Improvement</td><td>0.613</td><td>0.609</td></tr>\n",
              "\t<tr><th scope=row>99</th><td>Saudi Arabia         </td><td>Asia  </td><td>0.008</td><td>Positive / Improvement</td><td>0.875</td><td>0.867</td></tr>\n",
              "\t<tr><th scope=row>100</th><td>Senegal              </td><td>Africa</td><td>0.005</td><td>Positive / Improvement</td><td>0.517</td><td>0.512</td></tr>\n",
              "\t<tr><th scope=row>101</th><td>Sierra Leone         </td><td>Africa</td><td>0.002</td><td>Positive / Improvement</td><td>0.458</td><td>0.456</td></tr>\n",
              "\t<tr><th scope=row>102</th><td>Singapore            </td><td>Asia  </td><td>0.007</td><td>Positive / Improvement</td><td>0.949</td><td>0.942</td></tr>\n",
              "\t<tr><th scope=row>109</th><td>Tajikistan           </td><td>Asia  </td><td>0.002</td><td>Positive / Improvement</td><td>0.679</td><td>0.677</td></tr>\n",
              "\t<tr><th scope=row>110</th><td>Thailand             </td><td>Asia  </td><td>0.006</td><td>Positive / Improvement</td><td>0.803</td><td>0.797</td></tr>\n",
              "\t<tr><th scope=row>111</th><td>Togo                 </td><td>Africa</td><td>0.002</td><td>Positive / Improvement</td><td>0.547</td><td>0.545</td></tr>\n",
              "\t<tr><th scope=row>114</th><td>Tunisia              </td><td>Africa</td><td>0.003</td><td>Positive / Improvement</td><td>0.732</td><td>0.729</td></tr>\n",
              "\t<tr><th scope=row>116</th><td>Uganda               </td><td>Africa</td><td>0.005</td><td>Positive / Improvement</td><td>0.550</td><td>0.545</td></tr>\n",
              "\t<tr><th scope=row>118</th><td>United Arab Emirates </td><td>Asia  </td><td>0.006</td><td>Positive / Improvement</td><td>0.937</td><td>0.931</td></tr>\n",
              "\t<tr><th scope=row>123</th><td>Zambia               </td><td>Africa</td><td>0.004</td><td>Positive / Improvement</td><td>0.569</td><td>0.565</td></tr>\n",
              "\t<tr><th scope=row>124</th><td>Zimbabwe             </td><td>Africa</td><td>0.001</td><td>Positive / Improvement</td><td>0.550</td><td>0.549</td></tr>\n",
              "</tbody>\n",
              "</table>\n"
            ],
            "text/markdown": "\nA data.frame: 49 × 6\n\n| <!--/--> | Country &lt;chr&gt; | Continent &lt;chr&gt; | Change_HDI_2022_21 &lt;dbl&gt; | Result_HDI_2022_21 &lt;chr&gt; | HDI_2022 &lt;dbl&gt; | HDI_2021 &lt;dbl&gt; |\n|---|---|---|---|---|---|---|\n| 3 | Algeria               | Africa | 0.005 | Positive / Improvement | 0.745 | 0.740 |\n| 5 | Armenia               | Asia   | 0.012 | Positive / Improvement | 0.786 | 0.774 |\n| 9 | Bahrain               | Asia   | 0.004 | Positive / Improvement | 0.888 | 0.884 |\n| 10 | Bangladesh            | Asia   | 0.008 | Positive / Improvement | 0.670 | 0.662 |\n| 14 | Benin                 | Africa | 0.002 | Positive / Improvement | 0.504 | 0.502 |\n| 15 | Botswana              | Africa | 0.028 | Positive / Improvement | 0.708 | 0.680 |\n| 18 | Burundi               | Africa | 0.001 | Positive / Improvement | 0.420 | 0.419 |\n| 19 | Cambodia              | Asia   | 0.004 | Positive / Improvement | 0.600 | 0.596 |\n| 20 | Cameroon              | Africa | 0.006 | Positive / Improvement | 0.587 | 0.581 |\n| 24 | China                 | Asia   | 0.003 | Positive / Improvement | 0.788 | 0.785 |\n| 32 | Egypt                 | Africa | 0.002 | Positive / Improvement | 0.728 | 0.726 |\n| 38 | Gabon                 | Africa | 0.006 | Positive / Improvement | 0.693 | 0.687 |\n| 39 | Gambia                | Africa | 0.005 | Positive / Improvement | 0.495 | 0.490 |\n| 41 | Ghana                 | Africa | 0.002 | Positive / Improvement | 0.602 | 0.600 |\n| 44 | Guinea                | Africa | 0.004 | Positive / Improvement | 0.471 | 0.467 |\n| 50 | India                 | Asia   | 0.011 | Positive / Improvement | 0.644 | 0.633 |\n| 51 | Indonesia             | Asia   | 0.006 | Positive / Improvement | 0.713 | 0.707 |\n| 52 | Iraq                  | Asia   | 0.006 | Positive / Improvement | 0.673 | 0.667 |\n| 54 | Israel                | Asia   | 0.004 | Positive / Improvement | 0.915 | 0.911 |\n| 59 | Kazakhstan            | Asia   | 0.001 | Positive / Improvement | 0.802 | 0.801 |\n| 60 | Kenya                 | Africa | 0.005 | Positive / Improvement | 0.601 | 0.596 |\n| 61 | Kuwait                | Asia   | 0.011 | Positive / Improvement | 0.847 | 0.836 |\n| 62 | Kyrgyzstan            | Asia   | 0.005 | Positive / Improvement | 0.701 | 0.696 |\n| 69 | Malaysia              | Asia   | 0.009 | Positive / Improvement | 0.807 | 0.798 |\n| 70 | Mali                  | Africa | 0.002 | Positive / Improvement | 0.410 | 0.408 |\n| 72 | Mauritania            | Africa | 0.002 | Positive / Improvement | 0.540 | 0.538 |\n| 73 | Mauritius             | Africa | 0.006 | Positive / Improvement | 0.796 | 0.790 |\n| 75 | Mongolia              | Asia   | 0.011 | Positive / Improvement | 0.741 | 0.730 |\n| 76 | Morocco               | Africa | 0.010 | Positive / Improvement | 0.698 | 0.688 |\n| 77 | Mozambique            | Africa | 0.002 | Positive / Improvement | 0.461 | 0.459 |\n| 78 | Myanmar               | Asia   | 0.009 | Positive / Improvement | 0.608 | 0.599 |\n| 80 | Nepal                 | Asia   | 0.010 | Positive / Improvement | 0.601 | 0.591 |\n| 84 | Niger                 | Africa | 0.005 | Positive / Improvement | 0.394 | 0.389 |\n| 86 | Pakistan              | Asia   | 0.003 | Positive / Improvement | 0.540 | 0.537 |\n| 91 | Philippines           | Asia   | 0.018 | Positive / Improvement | 0.710 | 0.692 |\n| 94 | Qatar                 | Asia   | 0.011 | Positive / Improvement | 0.875 | 0.864 |\n| 98 | Sao Tome and Principe | Africa | 0.004 | Positive / Improvement | 0.613 | 0.609 |\n| 99 | Saudi Arabia          | Asia   | 0.008 | Positive / Improvement | 0.875 | 0.867 |\n| 100 | Senegal               | Africa | 0.005 | Positive / Improvement | 0.517 | 0.512 |\n| 101 | Sierra Leone          | Africa | 0.002 | Positive / Improvement | 0.458 | 0.456 |\n| 102 | Singapore             | Asia   | 0.007 | Positive / Improvement | 0.949 | 0.942 |\n| 109 | Tajikistan            | Asia   | 0.002 | Positive / Improvement | 0.679 | 0.677 |\n| 110 | Thailand              | Asia   | 0.006 | Positive / Improvement | 0.803 | 0.797 |\n| 111 | Togo                  | Africa | 0.002 | Positive / Improvement | 0.547 | 0.545 |\n| 114 | Tunisia               | Africa | 0.003 | Positive / Improvement | 0.732 | 0.729 |\n| 116 | Uganda                | Africa | 0.005 | Positive / Improvement | 0.550 | 0.545 |\n| 118 | United Arab Emirates  | Asia   | 0.006 | Positive / Improvement | 0.937 | 0.931 |\n| 123 | Zambia                | Africa | 0.004 | Positive / Improvement | 0.569 | 0.565 |\n| 124 | Zimbabwe              | Africa | 0.001 | Positive / Improvement | 0.550 | 0.549 |\n\n",
            "text/latex": "A data.frame: 49 × 6\n\\begin{tabular}{r|llllll}\n  & Country & Continent & Change\\_HDI\\_2022\\_21 & Result\\_HDI\\_2022\\_21 & HDI\\_2022 & HDI\\_2021\\\\\n  & <chr> & <chr> & <dbl> & <chr> & <dbl> & <dbl>\\\\\n\\hline\n\t3 & Algeria               & Africa & 0.005 & Positive / Improvement & 0.745 & 0.740\\\\\n\t5 & Armenia               & Asia   & 0.012 & Positive / Improvement & 0.786 & 0.774\\\\\n\t9 & Bahrain               & Asia   & 0.004 & Positive / Improvement & 0.888 & 0.884\\\\\n\t10 & Bangladesh            & Asia   & 0.008 & Positive / Improvement & 0.670 & 0.662\\\\\n\t14 & Benin                 & Africa & 0.002 & Positive / Improvement & 0.504 & 0.502\\\\\n\t15 & Botswana              & Africa & 0.028 & Positive / Improvement & 0.708 & 0.680\\\\\n\t18 & Burundi               & Africa & 0.001 & Positive / Improvement & 0.420 & 0.419\\\\\n\t19 & Cambodia              & Asia   & 0.004 & Positive / Improvement & 0.600 & 0.596\\\\\n\t20 & Cameroon              & Africa & 0.006 & Positive / Improvement & 0.587 & 0.581\\\\\n\t24 & China                 & Asia   & 0.003 & Positive / Improvement & 0.788 & 0.785\\\\\n\t32 & Egypt                 & Africa & 0.002 & Positive / Improvement & 0.728 & 0.726\\\\\n\t38 & Gabon                 & Africa & 0.006 & Positive / Improvement & 0.693 & 0.687\\\\\n\t39 & Gambia                & Africa & 0.005 & Positive / Improvement & 0.495 & 0.490\\\\\n\t41 & Ghana                 & Africa & 0.002 & Positive / Improvement & 0.602 & 0.600\\\\\n\t44 & Guinea                & Africa & 0.004 & Positive / Improvement & 0.471 & 0.467\\\\\n\t50 & India                 & Asia   & 0.011 & Positive / Improvement & 0.644 & 0.633\\\\\n\t51 & Indonesia             & Asia   & 0.006 & Positive / Improvement & 0.713 & 0.707\\\\\n\t52 & Iraq                  & Asia   & 0.006 & Positive / Improvement & 0.673 & 0.667\\\\\n\t54 & Israel                & Asia   & 0.004 & Positive / Improvement & 0.915 & 0.911\\\\\n\t59 & Kazakhstan            & Asia   & 0.001 & Positive / Improvement & 0.802 & 0.801\\\\\n\t60 & Kenya                 & Africa & 0.005 & Positive / Improvement & 0.601 & 0.596\\\\\n\t61 & Kuwait                & Asia   & 0.011 & Positive / Improvement & 0.847 & 0.836\\\\\n\t62 & Kyrgyzstan            & Asia   & 0.005 & Positive / Improvement & 0.701 & 0.696\\\\\n\t69 & Malaysia              & Asia   & 0.009 & Positive / Improvement & 0.807 & 0.798\\\\\n\t70 & Mali                  & Africa & 0.002 & Positive / Improvement & 0.410 & 0.408\\\\\n\t72 & Mauritania            & Africa & 0.002 & Positive / Improvement & 0.540 & 0.538\\\\\n\t73 & Mauritius             & Africa & 0.006 & Positive / Improvement & 0.796 & 0.790\\\\\n\t75 & Mongolia              & Asia   & 0.011 & Positive / Improvement & 0.741 & 0.730\\\\\n\t76 & Morocco               & Africa & 0.010 & Positive / Improvement & 0.698 & 0.688\\\\\n\t77 & Mozambique            & Africa & 0.002 & Positive / Improvement & 0.461 & 0.459\\\\\n\t78 & Myanmar               & Asia   & 0.009 & Positive / Improvement & 0.608 & 0.599\\\\\n\t80 & Nepal                 & Asia   & 0.010 & Positive / Improvement & 0.601 & 0.591\\\\\n\t84 & Niger                 & Africa & 0.005 & Positive / Improvement & 0.394 & 0.389\\\\\n\t86 & Pakistan              & Asia   & 0.003 & Positive / Improvement & 0.540 & 0.537\\\\\n\t91 & Philippines           & Asia   & 0.018 & Positive / Improvement & 0.710 & 0.692\\\\\n\t94 & Qatar                 & Asia   & 0.011 & Positive / Improvement & 0.875 & 0.864\\\\\n\t98 & Sao Tome and Principe & Africa & 0.004 & Positive / Improvement & 0.613 & 0.609\\\\\n\t99 & Saudi Arabia          & Asia   & 0.008 & Positive / Improvement & 0.875 & 0.867\\\\\n\t100 & Senegal               & Africa & 0.005 & Positive / Improvement & 0.517 & 0.512\\\\\n\t101 & Sierra Leone          & Africa & 0.002 & Positive / Improvement & 0.458 & 0.456\\\\\n\t102 & Singapore             & Asia   & 0.007 & Positive / Improvement & 0.949 & 0.942\\\\\n\t109 & Tajikistan            & Asia   & 0.002 & Positive / Improvement & 0.679 & 0.677\\\\\n\t110 & Thailand              & Asia   & 0.006 & Positive / Improvement & 0.803 & 0.797\\\\\n\t111 & Togo                  & Africa & 0.002 & Positive / Improvement & 0.547 & 0.545\\\\\n\t114 & Tunisia               & Africa & 0.003 & Positive / Improvement & 0.732 & 0.729\\\\\n\t116 & Uganda                & Africa & 0.005 & Positive / Improvement & 0.550 & 0.545\\\\\n\t118 & United Arab Emirates  & Asia   & 0.006 & Positive / Improvement & 0.937 & 0.931\\\\\n\t123 & Zambia                & Africa & 0.004 & Positive / Improvement & 0.569 & 0.565\\\\\n\t124 & Zimbabwe              & Africa & 0.001 & Positive / Improvement & 0.550 & 0.549\\\\\n\\end{tabular}\n",
            "text/plain": [
              "    Country               Continent Change_HDI_2022_21 Result_HDI_2022_21    \n",
              "3   Algeria               Africa    0.005              Positive / Improvement\n",
              "5   Armenia               Asia      0.012              Positive / Improvement\n",
              "9   Bahrain               Asia      0.004              Positive / Improvement\n",
              "10  Bangladesh            Asia      0.008              Positive / Improvement\n",
              "14  Benin                 Africa    0.002              Positive / Improvement\n",
              "15  Botswana              Africa    0.028              Positive / Improvement\n",
              "18  Burundi               Africa    0.001              Positive / Improvement\n",
              "19  Cambodia              Asia      0.004              Positive / Improvement\n",
              "20  Cameroon              Africa    0.006              Positive / Improvement\n",
              "24  China                 Asia      0.003              Positive / Improvement\n",
              "32  Egypt                 Africa    0.002              Positive / Improvement\n",
              "38  Gabon                 Africa    0.006              Positive / Improvement\n",
              "39  Gambia                Africa    0.005              Positive / Improvement\n",
              "41  Ghana                 Africa    0.002              Positive / Improvement\n",
              "44  Guinea                Africa    0.004              Positive / Improvement\n",
              "50  India                 Asia      0.011              Positive / Improvement\n",
              "51  Indonesia             Asia      0.006              Positive / Improvement\n",
              "52  Iraq                  Asia      0.006              Positive / Improvement\n",
              "54  Israel                Asia      0.004              Positive / Improvement\n",
              "59  Kazakhstan            Asia      0.001              Positive / Improvement\n",
              "60  Kenya                 Africa    0.005              Positive / Improvement\n",
              "61  Kuwait                Asia      0.011              Positive / Improvement\n",
              "62  Kyrgyzstan            Asia      0.005              Positive / Improvement\n",
              "69  Malaysia              Asia      0.009              Positive / Improvement\n",
              "70  Mali                  Africa    0.002              Positive / Improvement\n",
              "72  Mauritania            Africa    0.002              Positive / Improvement\n",
              "73  Mauritius             Africa    0.006              Positive / Improvement\n",
              "75  Mongolia              Asia      0.011              Positive / Improvement\n",
              "76  Morocco               Africa    0.010              Positive / Improvement\n",
              "77  Mozambique            Africa    0.002              Positive / Improvement\n",
              "78  Myanmar               Asia      0.009              Positive / Improvement\n",
              "80  Nepal                 Asia      0.010              Positive / Improvement\n",
              "84  Niger                 Africa    0.005              Positive / Improvement\n",
              "86  Pakistan              Asia      0.003              Positive / Improvement\n",
              "91  Philippines           Asia      0.018              Positive / Improvement\n",
              "94  Qatar                 Asia      0.011              Positive / Improvement\n",
              "98  Sao Tome and Principe Africa    0.004              Positive / Improvement\n",
              "99  Saudi Arabia          Asia      0.008              Positive / Improvement\n",
              "100 Senegal               Africa    0.005              Positive / Improvement\n",
              "101 Sierra Leone          Africa    0.002              Positive / Improvement\n",
              "102 Singapore             Asia      0.007              Positive / Improvement\n",
              "109 Tajikistan            Asia      0.002              Positive / Improvement\n",
              "110 Thailand              Asia      0.006              Positive / Improvement\n",
              "111 Togo                  Africa    0.002              Positive / Improvement\n",
              "114 Tunisia               Africa    0.003              Positive / Improvement\n",
              "116 Uganda                Africa    0.005              Positive / Improvement\n",
              "118 United Arab Emirates  Asia      0.006              Positive / Improvement\n",
              "123 Zambia                Africa    0.004              Positive / Improvement\n",
              "124 Zimbabwe              Africa    0.001              Positive / Improvement\n",
              "    HDI_2022 HDI_2021\n",
              "3   0.745    0.740   \n",
              "5   0.786    0.774   \n",
              "9   0.888    0.884   \n",
              "10  0.670    0.662   \n",
              "14  0.504    0.502   \n",
              "15  0.708    0.680   \n",
              "18  0.420    0.419   \n",
              "19  0.600    0.596   \n",
              "20  0.587    0.581   \n",
              "24  0.788    0.785   \n",
              "32  0.728    0.726   \n",
              "38  0.693    0.687   \n",
              "39  0.495    0.490   \n",
              "41  0.602    0.600   \n",
              "44  0.471    0.467   \n",
              "50  0.644    0.633   \n",
              "51  0.713    0.707   \n",
              "52  0.673    0.667   \n",
              "54  0.915    0.911   \n",
              "59  0.802    0.801   \n",
              "60  0.601    0.596   \n",
              "61  0.847    0.836   \n",
              "62  0.701    0.696   \n",
              "69  0.807    0.798   \n",
              "70  0.410    0.408   \n",
              "72  0.540    0.538   \n",
              "73  0.796    0.790   \n",
              "75  0.741    0.730   \n",
              "76  0.698    0.688   \n",
              "77  0.461    0.459   \n",
              "78  0.608    0.599   \n",
              "80  0.601    0.591   \n",
              "84  0.394    0.389   \n",
              "86  0.540    0.537   \n",
              "91  0.710    0.692   \n",
              "94  0.875    0.864   \n",
              "98  0.613    0.609   \n",
              "99  0.875    0.867   \n",
              "100 0.517    0.512   \n",
              "101 0.458    0.456   \n",
              "102 0.949    0.942   \n",
              "109 0.679    0.677   \n",
              "110 0.803    0.797   \n",
              "111 0.547    0.545   \n",
              "114 0.732    0.729   \n",
              "116 0.550    0.545   \n",
              "118 0.937    0.931   \n",
              "123 0.569    0.565   \n",
              "124 0.550    0.549   "
            ]
          },
          "metadata": {}
        }
      ]
    },
    {
      "cell_type": "code",
      "source": [
        "# Country with highest HDI improvement in Asia in 2022 w.r.t. 2021.\n",
        "\n",
        "filepath = 'https://raw.githubusercontent.com/AnmolDixitB13/R/main/Case%20study%202/cleaned_hdi_with_calculations.csv'\n",
        "# the place (on github) where the dataset file is stored\n",
        "\n",
        "data <- read.csv(filepath)\n",
        "# print(head(data))\n",
        "\n",
        "filtered_data <- subset(data, Continent == \"Asia\" & Result_HDI_2022_21 == \"Positive / Improvement\")\n",
        "# print(filtered_data)\n",
        "\n",
        "final_data <- subset(filtered_data, Change_HDI_2022_21 == max(Change_HDI_2022_21), select = c(Country, Continent, Change_HDI_2022_21, HDI_2022, HDI_2021))\n",
        "final_data\n"
      ],
      "metadata": {
        "colab": {
          "base_uri": "https://localhost:8080/",
          "height": 129
        },
        "id": "1m9_AuN5QomN",
        "outputId": "6ec72fcb-a16b-42d1-8b33-ecbcdac8fc31"
      },
      "execution_count": null,
      "outputs": [
        {
          "output_type": "display_data",
          "data": {
            "text/html": [
              "<table class=\"dataframe\">\n",
              "<caption>A data.frame: 1 × 5</caption>\n",
              "<thead>\n",
              "\t<tr><th></th><th scope=col>Country</th><th scope=col>Continent</th><th scope=col>Change_HDI_2022_21</th><th scope=col>HDI_2022</th><th scope=col>HDI_2021</th></tr>\n",
              "\t<tr><th></th><th scope=col>&lt;chr&gt;</th><th scope=col>&lt;chr&gt;</th><th scope=col>&lt;dbl&gt;</th><th scope=col>&lt;dbl&gt;</th><th scope=col>&lt;dbl&gt;</th></tr>\n",
              "</thead>\n",
              "<tbody>\n",
              "\t<tr><th scope=row>91</th><td>Philippines</td><td>Asia</td><td>0.018</td><td>0.71</td><td>0.692</td></tr>\n",
              "</tbody>\n",
              "</table>\n"
            ],
            "text/markdown": "\nA data.frame: 1 × 5\n\n| <!--/--> | Country &lt;chr&gt; | Continent &lt;chr&gt; | Change_HDI_2022_21 &lt;dbl&gt; | HDI_2022 &lt;dbl&gt; | HDI_2021 &lt;dbl&gt; |\n|---|---|---|---|---|---|\n| 91 | Philippines | Asia | 0.018 | 0.71 | 0.692 |\n\n",
            "text/latex": "A data.frame: 1 × 5\n\\begin{tabular}{r|lllll}\n  & Country & Continent & Change\\_HDI\\_2022\\_21 & HDI\\_2022 & HDI\\_2021\\\\\n  & <chr> & <chr> & <dbl> & <dbl> & <dbl>\\\\\n\\hline\n\t91 & Philippines & Asia & 0.018 & 0.71 & 0.692\\\\\n\\end{tabular}\n",
            "text/plain": [
              "   Country     Continent Change_HDI_2022_21 HDI_2022 HDI_2021\n",
              "91 Philippines Asia      0.018              0.71     0.692   "
            ]
          },
          "metadata": {}
        }
      ]
    },
    {
      "cell_type": "code",
      "source": [
        "# Country that has witnessed highest / maximum deterioration of HDI in 2022 w.r.t. 2021 on the\n",
        "# continent of Africa.\n",
        "\n",
        "filepath = 'https://raw.githubusercontent.com/AnmolDixitB13/R/main/Case%20study%202/cleaned_hdi_with_calculations.csv'\n",
        "# the place (on github) where the dataset file is stored\n",
        "\n",
        "data <- read.csv(filepath)\n",
        "\n",
        "filtered_data <- subset(data, Continent == 'Africa' & Result_HDI_2022_21 == 'Negative / Deterioration')\n",
        "# print(filtered_data)\n",
        "\n",
        "final_data <- subset(filtered_data, Change_HDI_2022_21 == min(Change_HDI_2022_21), select = c(Country, Continent, Change_HDI_2022_21, HDI_2022, HDI_2021))\n",
        "final_data\n",
        "# min() has been used and not max() because:\n",
        "# If the HDI of a country has deteriorated, then the Change_HDI_2022_21 will have a negative value.\n",
        "# So, to find out which country has seen highest change [maximum deterioration] of HDI, we have to find\n",
        "# the minimum value because smaller the value of change i.e. more negative the value, greater is the\n",
        "# magnitude of change. So, we've used min() instead of max().\n"
      ],
      "metadata": {
        "colab": {
          "base_uri": "https://localhost:8080/",
          "height": 129
        },
        "id": "KutJ95V-Qu6F",
        "outputId": "4fccfe61-e16e-4716-d4ab-ee47208236d6"
      },
      "execution_count": null,
      "outputs": [
        {
          "output_type": "display_data",
          "data": {
            "text/html": [
              "<table class=\"dataframe\">\n",
              "<caption>A data.frame: 1 × 5</caption>\n",
              "<thead>\n",
              "\t<tr><th></th><th scope=col>Country</th><th scope=col>Continent</th><th scope=col>Change_HDI_2022_21</th><th scope=col>HDI_2022</th><th scope=col>HDI_2021</th></tr>\n",
              "\t<tr><th></th><th scope=col>&lt;chr&gt;</th><th scope=col>&lt;chr&gt;</th><th scope=col>&lt;dbl&gt;</th><th scope=col>&lt;dbl&gt;</th><th scope=col>&lt;dbl&gt;</th></tr>\n",
              "</thead>\n",
              "<tbody>\n",
              "\t<tr><th scope=row>79</th><td>Namibia</td><td>Africa</td><td>-0.006</td><td>0.61</td><td>0.616</td></tr>\n",
              "</tbody>\n",
              "</table>\n"
            ],
            "text/markdown": "\nA data.frame: 1 × 5\n\n| <!--/--> | Country &lt;chr&gt; | Continent &lt;chr&gt; | Change_HDI_2022_21 &lt;dbl&gt; | HDI_2022 &lt;dbl&gt; | HDI_2021 &lt;dbl&gt; |\n|---|---|---|---|---|---|\n| 79 | Namibia | Africa | -0.006 | 0.61 | 0.616 |\n\n",
            "text/latex": "A data.frame: 1 × 5\n\\begin{tabular}{r|lllll}\n  & Country & Continent & Change\\_HDI\\_2022\\_21 & HDI\\_2022 & HDI\\_2021\\\\\n  & <chr> & <chr> & <dbl> & <dbl> & <dbl>\\\\\n\\hline\n\t79 & Namibia & Africa & -0.006 & 0.61 & 0.616\\\\\n\\end{tabular}\n",
            "text/plain": [
              "   Country Continent Change_HDI_2022_21 HDI_2022 HDI_2021\n",
              "79 Namibia Africa    -0.006             0.61     0.616   "
            ]
          },
          "metadata": {}
        }
      ]
    },
    {
      "cell_type": "code",
      "source": [
        "# Find the countries whose hdi ranks have remained unchanged in 2022 w.r.t. 2021.\n",
        "\n",
        "filepath = 'https://raw.githubusercontent.com/AnmolDixitB13/R/main/Case%20study%202/cleaned_hdi_with_calculations.csv'\n",
        "# the place (on github) where the dataset file is stored\n",
        "\n",
        "data <- read.csv(filepath)\n",
        "\n",
        "filtered_data <- subset(data, Result_HDI_2022_21 == 'No change / Constant', select = c(Country, Continent, HDI_2022, HDI_2021, Result_HDI_2022_21))\n",
        "filtered_data\n"
      ],
      "metadata": {
        "colab": {
          "base_uri": "https://localhost:8080/",
          "height": 317
        },
        "id": "qe3Z4wRCDW8h",
        "outputId": "2d93070e-d78a-4dc3-8202-f1fc8814eed1"
      },
      "execution_count": null,
      "outputs": [
        {
          "output_type": "display_data",
          "data": {
            "text/html": [
              "<table class=\"dataframe\">\n",
              "<caption>A data.frame: 7 × 5</caption>\n",
              "<thead>\n",
              "\t<tr><th></th><th scope=col>Country</th><th scope=col>Continent</th><th scope=col>HDI_2022</th><th scope=col>HDI_2021</th><th scope=col>Result_HDI_2022_21</th></tr>\n",
              "\t<tr><th></th><th scope=col>&lt;chr&gt;</th><th scope=col>&lt;chr&gt;</th><th scope=col>&lt;dbl&gt;</th><th scope=col>&lt;dbl&gt;</th><th scope=col>&lt;chr&gt;</th></tr>\n",
              "</thead>\n",
              "<tbody>\n",
              "\t<tr><th scope=row>22</th><td>Central African Republic</td><td>Africa </td><td>0.387</td><td>0.387</td><td>No change / Constant</td></tr>\n",
              "\t<tr><th scope=row>57</th><td>Japan                   </td><td>Asia   </td><td>0.920</td><td>0.920</td><td>No change / Constant</td></tr>\n",
              "\t<tr><th scope=row>58</th><td>Jordan                  </td><td>Asia   </td><td>0.736</td><td>0.736</td><td>No change / Constant</td></tr>\n",
              "\t<tr><th scope=row>65</th><td>Libya                   </td><td>Africa </td><td>0.746</td><td>0.746</td><td>No change / Constant</td></tr>\n",
              "\t<tr><th scope=row>67</th><td>Luxembourg              </td><td>Europe </td><td>0.927</td><td>0.927</td><td>No change / Constant</td></tr>\n",
              "\t<tr><th scope=row>106</th><td>Sudan                   </td><td>Africa </td><td>0.516</td><td>0.516</td><td>No change / Constant</td></tr>\n",
              "\t<tr><th scope=row>115</th><td>Tuvalu                  </td><td>Oceania</td><td>0.653</td><td>0.653</td><td>No change / Constant</td></tr>\n",
              "</tbody>\n",
              "</table>\n"
            ],
            "text/markdown": "\nA data.frame: 7 × 5\n\n| <!--/--> | Country &lt;chr&gt; | Continent &lt;chr&gt; | HDI_2022 &lt;dbl&gt; | HDI_2021 &lt;dbl&gt; | Result_HDI_2022_21 &lt;chr&gt; |\n|---|---|---|---|---|---|\n| 22 | Central African Republic | Africa  | 0.387 | 0.387 | No change / Constant |\n| 57 | Japan                    | Asia    | 0.920 | 0.920 | No change / Constant |\n| 58 | Jordan                   | Asia    | 0.736 | 0.736 | No change / Constant |\n| 65 | Libya                    | Africa  | 0.746 | 0.746 | No change / Constant |\n| 67 | Luxembourg               | Europe  | 0.927 | 0.927 | No change / Constant |\n| 106 | Sudan                    | Africa  | 0.516 | 0.516 | No change / Constant |\n| 115 | Tuvalu                   | Oceania | 0.653 | 0.653 | No change / Constant |\n\n",
            "text/latex": "A data.frame: 7 × 5\n\\begin{tabular}{r|lllll}\n  & Country & Continent & HDI\\_2022 & HDI\\_2021 & Result\\_HDI\\_2022\\_21\\\\\n  & <chr> & <chr> & <dbl> & <dbl> & <chr>\\\\\n\\hline\n\t22 & Central African Republic & Africa  & 0.387 & 0.387 & No change / Constant\\\\\n\t57 & Japan                    & Asia    & 0.920 & 0.920 & No change / Constant\\\\\n\t58 & Jordan                   & Asia    & 0.736 & 0.736 & No change / Constant\\\\\n\t65 & Libya                    & Africa  & 0.746 & 0.746 & No change / Constant\\\\\n\t67 & Luxembourg               & Europe  & 0.927 & 0.927 & No change / Constant\\\\\n\t106 & Sudan                    & Africa  & 0.516 & 0.516 & No change / Constant\\\\\n\t115 & Tuvalu                   & Oceania & 0.653 & 0.653 & No change / Constant\\\\\n\\end{tabular}\n",
            "text/plain": [
              "    Country                  Continent HDI_2022 HDI_2021 Result_HDI_2022_21  \n",
              "22  Central African Republic Africa    0.387    0.387    No change / Constant\n",
              "57  Japan                    Asia      0.920    0.920    No change / Constant\n",
              "58  Jordan                   Asia      0.736    0.736    No change / Constant\n",
              "65  Libya                    Africa    0.746    0.746    No change / Constant\n",
              "67  Luxembourg               Europe    0.927    0.927    No change / Constant\n",
              "106 Sudan                    Africa    0.516    0.516    No change / Constant\n",
              "115 Tuvalu                   Oceania   0.653    0.653    No change / Constant"
            ]
          },
          "metadata": {}
        }
      ]
    },
    {
      "cell_type": "code",
      "source": [
        "# Find countries that deteriorated in terms of HDI from Europe & North America\n",
        "\n",
        "filepath = 'https://raw.githubusercontent.com/AnmolDixitB13/R/main/Case%20study%202/cleaned_hdi_with_calculations.csv'\n",
        "# the place (on github) where the dataset file is stored\n",
        "\n",
        "data <- read.csv(filepath)\n",
        "\n",
        "filtered_data <- subset(data, Continent %in% c('Europe', 'North America') & Result_HDI_2022_21 == 'Negative / Deterioration', select = c(Country, Continent, HDI_2022, HDI_2021, Result_HDI_2022_21))\n",
        "filtered_data"
      ],
      "metadata": {
        "colab": {
          "base_uri": "https://localhost:8080/",
          "height": 161
        },
        "id": "K0isUiS4DXIY",
        "outputId": "ef3a9e5b-2a41-42bc-9044-6b863a41e1ad"
      },
      "execution_count": null,
      "outputs": [
        {
          "output_type": "display_data",
          "data": {
            "text/html": [
              "<table class=\"dataframe\">\n",
              "<caption>A data.frame: 2 × 5</caption>\n",
              "<thead>\n",
              "\t<tr><th></th><th scope=col>Country</th><th scope=col>Continent</th><th scope=col>HDI_2022</th><th scope=col>HDI_2021</th><th scope=col>Result_HDI_2022_21</th></tr>\n",
              "\t<tr><th></th><th scope=col>&lt;chr&gt;</th><th scope=col>&lt;chr&gt;</th><th scope=col>&lt;dbl&gt;</th><th scope=col>&lt;dbl&gt;</th><th scope=col>&lt;chr&gt;</th></tr>\n",
              "</thead>\n",
              "<tbody>\n",
              "\t<tr><th scope=row>43</th><td>Guatemala</td><td>North America</td><td>0.629</td><td>0.630</td><td>Negative / Deterioration</td></tr>\n",
              "\t<tr><th scope=row>117</th><td>Ukraine  </td><td>Europe       </td><td>0.734</td><td>0.755</td><td>Negative / Deterioration</td></tr>\n",
              "</tbody>\n",
              "</table>\n"
            ],
            "text/markdown": "\nA data.frame: 2 × 5\n\n| <!--/--> | Country &lt;chr&gt; | Continent &lt;chr&gt; | HDI_2022 &lt;dbl&gt; | HDI_2021 &lt;dbl&gt; | Result_HDI_2022_21 &lt;chr&gt; |\n|---|---|---|---|---|---|\n| 43 | Guatemala | North America | 0.629 | 0.630 | Negative / Deterioration |\n| 117 | Ukraine   | Europe        | 0.734 | 0.755 | Negative / Deterioration |\n\n",
            "text/latex": "A data.frame: 2 × 5\n\\begin{tabular}{r|lllll}\n  & Country & Continent & HDI\\_2022 & HDI\\_2021 & Result\\_HDI\\_2022\\_21\\\\\n  & <chr> & <chr> & <dbl> & <dbl> & <chr>\\\\\n\\hline\n\t43 & Guatemala & North America & 0.629 & 0.630 & Negative / Deterioration\\\\\n\t117 & Ukraine   & Europe        & 0.734 & 0.755 & Negative / Deterioration\\\\\n\\end{tabular}\n",
            "text/plain": [
              "    Country   Continent     HDI_2022 HDI_2021 Result_HDI_2022_21      \n",
              "43  Guatemala North America 0.629    0.630    Negative / Deterioration\n",
              "117 Ukraine   Europe        0.734    0.755    Negative / Deterioration"
            ]
          },
          "metadata": {}
        }
      ]
    },
    {
      "cell_type": "code",
      "source": [
        "# Find the country that has the 3rd highest HDI on the continent of Asia in 2022\n",
        "\n",
        "filepath = 'https://raw.githubusercontent.com/AnmolDixitB13/R/main/Case%20study%202/cleaned_hdi_with_calculations.csv'\n",
        "# the place (on github) where the dataset file is stored\n",
        "\n",
        "data <- read.csv(filepath)\n",
        "\n",
        "# Filter for Asia and select relevant columns\n",
        "filtered_data <- subset(data, Continent == \"Asia\", select = c(Country, Continent, HDI_2022))\n",
        "\n",
        "# Order by HDI_2022 in descending order\n",
        "ordered_data <- filtered_data[order(-filtered_data$HDI_2022), ]\n",
        "\n",
        "# Check if there are at least 3 countries in Asia\n",
        "if (nrow(ordered_data) >= 3) {\n",
        "  # Get the 3rd highest HDI country details\n",
        "  third_highest_country <- ordered_data[3, \"Country\"]\n",
        "  third_highest_hdi <- ordered_data[3, \"HDI_2022\"]\n",
        "\n",
        "  cat(\"Country with 3rd highest HDI in Asia:\", third_highest_country, \"\\n\")\n",
        "  cat(\"HDI Value:\", third_highest_hdi, \"\\n\\n\")\n",
        "} else {\n",
        "  cat(\"There are less than 3 countries in Asia in the dataset.\\n\")\n",
        "}"
      ],
      "metadata": {
        "colab": {
          "base_uri": "https://localhost:8080/"
        },
        "id": "GgBUmyodDXi7",
        "outputId": "84f66ac3-e3ad-416d-abbc-92e085c0e8c0"
      },
      "execution_count": null,
      "outputs": [
        {
          "output_type": "stream",
          "name": "stdout",
          "text": [
            "Country with 3rd highest HDI in Asia: Japan \n",
            "HDI Value: 0.92 \n",
            "\n"
          ]
        }
      ]
    },
    {
      "cell_type": "code",
      "source": [
        "# Compare the details like gross national income per capita, mean schooling years, etc of the countries\n",
        "# of EU having very high hdi to that of countries of NA who have their HDI in the tier of 'very high'\n",
        "\n",
        "filepath = 'https://raw.githubusercontent.com/AnmolDixitB13/R/main/Case%20study%202/cleaned_hdi_with_calculations.csv'\n",
        "# the place (on github) where the dataset file is stored\n",
        "\n",
        "data <- read.csv(filepath)\n",
        "\n",
        "filtered_data <- subset(data, HDI_Tier == 'Very High' & Continent %in% c('Europe', 'North America'), select = c(Country, Continent, Mean_Years_Of_Schooling_Years_2022, Gross_National_Income_Per_Capital_2022))\n",
        "\n",
        "ans_set_1 <- subset(filtered_data, Continent == 'Europe')\n",
        "ans_set_2 <- subset(filtered_data, Continent == 'North America')\n",
        "\n",
        "ans_set_1\n",
        "print(\"__________________________________________________________________\")\n",
        "ans_set_2\n"
      ],
      "metadata": {
        "colab": {
          "base_uri": "https://localhost:8080/",
          "height": 1000
        },
        "id": "Y7sTAFKaDYxl",
        "outputId": "e1de9eaa-4219-4fd9-c605-1debc0f5e8f5"
      },
      "execution_count": null,
      "outputs": [
        {
          "output_type": "display_data",
          "data": {
            "text/html": [
              "<table class=\"dataframe\">\n",
              "<caption>A data.frame: 26 × 4</caption>\n",
              "<thead>\n",
              "\t<tr><th></th><th scope=col>Country</th><th scope=col>Continent</th><th scope=col>Mean_Years_Of_Schooling_Years_2022</th><th scope=col>Gross_National_Income_Per_Capital_2022</th></tr>\n",
              "\t<tr><th></th><th scope=col>&lt;chr&gt;</th><th scope=col>&lt;chr&gt;</th><th scope=col>&lt;dbl&gt;</th><th scope=col>&lt;int&gt;</th></tr>\n",
              "</thead>\n",
              "<tbody>\n",
              "\t<tr><th scope=row>7</th><td>Austria       </td><td>Europe</td><td>12.3</td><td>56530</td></tr>\n",
              "\t<tr><th scope=row>12</th><td>Belgium       </td><td>Europe</td><td>12.5</td><td>53644</td></tr>\n",
              "\t<tr><th scope=row>29</th><td>Denmark       </td><td>Europe</td><td>13.0</td><td>62019</td></tr>\n",
              "\t<tr><th scope=row>34</th><td>Estonia       </td><td>Europe</td><td>13.5</td><td>37152</td></tr>\n",
              "\t<tr><th scope=row>36</th><td>Finland       </td><td>Europe</td><td>12.9</td><td>49522</td></tr>\n",
              "\t<tr><th scope=row>37</th><td>France        </td><td>Europe</td><td>11.7</td><td>47379</td></tr>\n",
              "\t<tr><th scope=row>40</th><td>Germany       </td><td>Europe</td><td>14.3</td><td>55340</td></tr>\n",
              "\t<tr><th scope=row>42</th><td>Greece        </td><td>Europe</td><td>11.4</td><td>31382</td></tr>\n",
              "\t<tr><th scope=row>48</th><td>Hungary       </td><td>Europe</td><td>12.2</td><td>34196</td></tr>\n",
              "\t<tr><th scope=row>49</th><td>Iceland       </td><td>Europe</td><td>13.8</td><td>54688</td></tr>\n",
              "\t<tr><th scope=row>53</th><td>Ireland       </td><td>Europe</td><td>11.7</td><td>87468</td></tr>\n",
              "\t<tr><th scope=row>55</th><td>Italy         </td><td>Europe</td><td>10.7</td><td>44284</td></tr>\n",
              "\t<tr><th scope=row>63</th><td>Latvia        </td><td>Europe</td><td>13.3</td><td>32083</td></tr>\n",
              "\t<tr><th scope=row>66</th><td>Lithuania     </td><td>Europe</td><td>13.5</td><td>38131</td></tr>\n",
              "\t<tr><th scope=row>67</th><td>Luxembourg    </td><td>Europe</td><td>13.0</td><td>78554</td></tr>\n",
              "\t<tr><th scope=row>71</th><td>Malta         </td><td>Europe</td><td>12.2</td><td>44464</td></tr>\n",
              "\t<tr><th scope=row>81</th><td>Netherlands   </td><td>Europe</td><td>12.6</td><td>57278</td></tr>\n",
              "\t<tr><th scope=row>85</th><td>Norway        </td><td>Europe</td><td>13.1</td><td>69190</td></tr>\n",
              "\t<tr><th scope=row>92</th><td>Poland        </td><td>Europe</td><td>13.2</td><td>35151</td></tr>\n",
              "\t<tr><th scope=row>93</th><td>Portugal      </td><td>Europe</td><td> 9.6</td><td>35315</td></tr>\n",
              "\t<tr><th scope=row>95</th><td>Romania       </td><td>Europe</td><td>11.4</td><td>31641</td></tr>\n",
              "\t<tr><th scope=row>97</th><td>San Marino    </td><td>Europe</td><td>10.5</td><td>57687</td></tr>\n",
              "\t<tr><th scope=row>104</th><td>Spain         </td><td>Europe</td><td>10.6</td><td>40043</td></tr>\n",
              "\t<tr><th scope=row>107</th><td>Sweden        </td><td>Europe</td><td>12.7</td><td>56996</td></tr>\n",
              "\t<tr><th scope=row>108</th><td>Switzerland   </td><td>Europe</td><td>13.9</td><td>69433</td></tr>\n",
              "\t<tr><th scope=row>119</th><td>United Kingdom</td><td>Europe</td><td>13.4</td><td>46624</td></tr>\n",
              "</tbody>\n",
              "</table>\n"
            ],
            "text/markdown": "\nA data.frame: 26 × 4\n\n| <!--/--> | Country &lt;chr&gt; | Continent &lt;chr&gt; | Mean_Years_Of_Schooling_Years_2022 &lt;dbl&gt; | Gross_National_Income_Per_Capital_2022 &lt;int&gt; |\n|---|---|---|---|---|\n| 7 | Austria        | Europe | 12.3 | 56530 |\n| 12 | Belgium        | Europe | 12.5 | 53644 |\n| 29 | Denmark        | Europe | 13.0 | 62019 |\n| 34 | Estonia        | Europe | 13.5 | 37152 |\n| 36 | Finland        | Europe | 12.9 | 49522 |\n| 37 | France         | Europe | 11.7 | 47379 |\n| 40 | Germany        | Europe | 14.3 | 55340 |\n| 42 | Greece         | Europe | 11.4 | 31382 |\n| 48 | Hungary        | Europe | 12.2 | 34196 |\n| 49 | Iceland        | Europe | 13.8 | 54688 |\n| 53 | Ireland        | Europe | 11.7 | 87468 |\n| 55 | Italy          | Europe | 10.7 | 44284 |\n| 63 | Latvia         | Europe | 13.3 | 32083 |\n| 66 | Lithuania      | Europe | 13.5 | 38131 |\n| 67 | Luxembourg     | Europe | 13.0 | 78554 |\n| 71 | Malta          | Europe | 12.2 | 44464 |\n| 81 | Netherlands    | Europe | 12.6 | 57278 |\n| 85 | Norway         | Europe | 13.1 | 69190 |\n| 92 | Poland         | Europe | 13.2 | 35151 |\n| 93 | Portugal       | Europe |  9.6 | 35315 |\n| 95 | Romania        | Europe | 11.4 | 31641 |\n| 97 | San Marino     | Europe | 10.5 | 57687 |\n| 104 | Spain          | Europe | 10.6 | 40043 |\n| 107 | Sweden         | Europe | 12.7 | 56996 |\n| 108 | Switzerland    | Europe | 13.9 | 69433 |\n| 119 | United Kingdom | Europe | 13.4 | 46624 |\n\n",
            "text/latex": "A data.frame: 26 × 4\n\\begin{tabular}{r|llll}\n  & Country & Continent & Mean\\_Years\\_Of\\_Schooling\\_Years\\_2022 & Gross\\_National\\_Income\\_Per\\_Capital\\_2022\\\\\n  & <chr> & <chr> & <dbl> & <int>\\\\\n\\hline\n\t7 & Austria        & Europe & 12.3 & 56530\\\\\n\t12 & Belgium        & Europe & 12.5 & 53644\\\\\n\t29 & Denmark        & Europe & 13.0 & 62019\\\\\n\t34 & Estonia        & Europe & 13.5 & 37152\\\\\n\t36 & Finland        & Europe & 12.9 & 49522\\\\\n\t37 & France         & Europe & 11.7 & 47379\\\\\n\t40 & Germany        & Europe & 14.3 & 55340\\\\\n\t42 & Greece         & Europe & 11.4 & 31382\\\\\n\t48 & Hungary        & Europe & 12.2 & 34196\\\\\n\t49 & Iceland        & Europe & 13.8 & 54688\\\\\n\t53 & Ireland        & Europe & 11.7 & 87468\\\\\n\t55 & Italy          & Europe & 10.7 & 44284\\\\\n\t63 & Latvia         & Europe & 13.3 & 32083\\\\\n\t66 & Lithuania      & Europe & 13.5 & 38131\\\\\n\t67 & Luxembourg     & Europe & 13.0 & 78554\\\\\n\t71 & Malta          & Europe & 12.2 & 44464\\\\\n\t81 & Netherlands    & Europe & 12.6 & 57278\\\\\n\t85 & Norway         & Europe & 13.1 & 69190\\\\\n\t92 & Poland         & Europe & 13.2 & 35151\\\\\n\t93 & Portugal       & Europe &  9.6 & 35315\\\\\n\t95 & Romania        & Europe & 11.4 & 31641\\\\\n\t97 & San Marino     & Europe & 10.5 & 57687\\\\\n\t104 & Spain          & Europe & 10.6 & 40043\\\\\n\t107 & Sweden         & Europe & 12.7 & 56996\\\\\n\t108 & Switzerland    & Europe & 13.9 & 69433\\\\\n\t119 & United Kingdom & Europe & 13.4 & 46624\\\\\n\\end{tabular}\n",
            "text/plain": [
              "    Country        Continent Mean_Years_Of_Schooling_Years_2022\n",
              "7   Austria        Europe    12.3                              \n",
              "12  Belgium        Europe    12.5                              \n",
              "29  Denmark        Europe    13.0                              \n",
              "34  Estonia        Europe    13.5                              \n",
              "36  Finland        Europe    12.9                              \n",
              "37  France         Europe    11.7                              \n",
              "40  Germany        Europe    14.3                              \n",
              "42  Greece         Europe    11.4                              \n",
              "48  Hungary        Europe    12.2                              \n",
              "49  Iceland        Europe    13.8                              \n",
              "53  Ireland        Europe    11.7                              \n",
              "55  Italy          Europe    10.7                              \n",
              "63  Latvia         Europe    13.3                              \n",
              "66  Lithuania      Europe    13.5                              \n",
              "67  Luxembourg     Europe    13.0                              \n",
              "71  Malta          Europe    12.2                              \n",
              "81  Netherlands    Europe    12.6                              \n",
              "85  Norway         Europe    13.1                              \n",
              "92  Poland         Europe    13.2                              \n",
              "93  Portugal       Europe     9.6                              \n",
              "95  Romania        Europe    11.4                              \n",
              "97  San Marino     Europe    10.5                              \n",
              "104 Spain          Europe    10.6                              \n",
              "107 Sweden         Europe    12.7                              \n",
              "108 Switzerland    Europe    13.9                              \n",
              "119 United Kingdom Europe    13.4                              \n",
              "    Gross_National_Income_Per_Capital_2022\n",
              "7   56530                                 \n",
              "12  53644                                 \n",
              "29  62019                                 \n",
              "34  37152                                 \n",
              "36  49522                                 \n",
              "37  47379                                 \n",
              "40  55340                                 \n",
              "42  31382                                 \n",
              "48  34196                                 \n",
              "49  54688                                 \n",
              "53  87468                                 \n",
              "55  44284                                 \n",
              "63  32083                                 \n",
              "66  38131                                 \n",
              "67  78554                                 \n",
              "71  44464                                 \n",
              "81  57278                                 \n",
              "85  69190                                 \n",
              "92  35151                                 \n",
              "93  35315                                 \n",
              "95  31641                                 \n",
              "97  57687                                 \n",
              "104 40043                                 \n",
              "107 56996                                 \n",
              "108 69433                                 \n",
              "119 46624                                 "
            ]
          },
          "metadata": {}
        },
        {
          "output_type": "stream",
          "name": "stdout",
          "text": [
            "[1] \"__________________________________________________________________\"\n"
          ]
        },
        {
          "output_type": "display_data",
          "data": {
            "text/html": [
              "<table class=\"dataframe\">\n",
              "<caption>A data.frame: 5 × 4</caption>\n",
              "<thead>\n",
              "\t<tr><th></th><th scope=col>Country</th><th scope=col>Continent</th><th scope=col>Mean_Years_Of_Schooling_Years_2022</th><th scope=col>Gross_National_Income_Per_Capital_2022</th></tr>\n",
              "\t<tr><th></th><th scope=col>&lt;chr&gt;</th><th scope=col>&lt;chr&gt;</th><th scope=col>&lt;dbl&gt;</th><th scope=col>&lt;int&gt;</th></tr>\n",
              "</thead>\n",
              "<tbody>\n",
              "\t<tr><th scope=row>8</th><td>Bahamas      </td><td>North America</td><td>12.7</td><td>32535</td></tr>\n",
              "\t<tr><th scope=row>11</th><td>Barbados     </td><td>North America</td><td> 9.9</td><td>14810</td></tr>\n",
              "\t<tr><th scope=row>21</th><td>Canada       </td><td>North America</td><td>13.9</td><td>48444</td></tr>\n",
              "\t<tr><th scope=row>26</th><td>Costa Rica   </td><td>North America</td><td> 8.8</td><td>20248</td></tr>\n",
              "\t<tr><th scope=row>120</th><td>United States</td><td>North America</td><td>13.6</td><td>65565</td></tr>\n",
              "</tbody>\n",
              "</table>\n"
            ],
            "text/markdown": "\nA data.frame: 5 × 4\n\n| <!--/--> | Country &lt;chr&gt; | Continent &lt;chr&gt; | Mean_Years_Of_Schooling_Years_2022 &lt;dbl&gt; | Gross_National_Income_Per_Capital_2022 &lt;int&gt; |\n|---|---|---|---|---|\n| 8 | Bahamas       | North America | 12.7 | 32535 |\n| 11 | Barbados      | North America |  9.9 | 14810 |\n| 21 | Canada        | North America | 13.9 | 48444 |\n| 26 | Costa Rica    | North America |  8.8 | 20248 |\n| 120 | United States | North America | 13.6 | 65565 |\n\n",
            "text/latex": "A data.frame: 5 × 4\n\\begin{tabular}{r|llll}\n  & Country & Continent & Mean\\_Years\\_Of\\_Schooling\\_Years\\_2022 & Gross\\_National\\_Income\\_Per\\_Capital\\_2022\\\\\n  & <chr> & <chr> & <dbl> & <int>\\\\\n\\hline\n\t8 & Bahamas       & North America & 12.7 & 32535\\\\\n\t11 & Barbados      & North America &  9.9 & 14810\\\\\n\t21 & Canada        & North America & 13.9 & 48444\\\\\n\t26 & Costa Rica    & North America &  8.8 & 20248\\\\\n\t120 & United States & North America & 13.6 & 65565\\\\\n\\end{tabular}\n",
            "text/plain": [
              "    Country       Continent     Mean_Years_Of_Schooling_Years_2022\n",
              "8   Bahamas       North America 12.7                              \n",
              "11  Barbados      North America  9.9                              \n",
              "21  Canada        North America 13.9                              \n",
              "26  Costa Rica    North America  8.8                              \n",
              "120 United States North America 13.6                              \n",
              "    Gross_National_Income_Per_Capital_2022\n",
              "8   32535                                 \n",
              "11  14810                                 \n",
              "21  48444                                 \n",
              "26  20248                                 \n",
              "120 65565                                 "
            ]
          },
          "metadata": {}
        }
      ]
    },
    {
      "cell_type": "code",
      "source": [
        "# Compare details like gross national income per capita, mean schooling years, etc of the asian countries\n",
        "# who have their HDI in the 'low' tier with that of the african countries who have their hdi in\n",
        "# the same tier\n",
        "\n",
        "filepath = 'https://raw.githubusercontent.com/AnmolDixitB13/R/main/Case%20study%202/cleaned_hdi_with_calculations.csv'\n",
        "# the place (on github) where the dataset file is stored\n",
        "\n",
        "data <- read.csv(filepath)\n",
        "\n",
        "filtered_data <- subset(data, HDI_Tier == 'Low' & Continent %in% c('Asia', 'Africa'), select = c(Country, Continent, Mean_Years_Of_Schooling_Years_2022, Gross_National_Income_Per_Capital_2022))\n",
        "\n",
        "ans_set_1 <- subset(filtered_data, Continent == 'Asia')\n",
        "\n",
        "ans_set_2 <- subset(filtered_data, Continent == 'Africa')\n",
        "\n",
        "ans_set_1\n",
        "print(\"______________________________________________________________________\")\n",
        "ans_set_2"
      ],
      "metadata": {
        "colab": {
          "base_uri": "https://localhost:8080/",
          "height": 778
        },
        "id": "kyEklsSI-CAx",
        "outputId": "0743fa44-354c-4b84-ca7a-4b23d78677eb"
      },
      "execution_count": null,
      "outputs": [
        {
          "output_type": "display_data",
          "data": {
            "text/html": [
              "<table class=\"dataframe\">\n",
              "<caption>A data.frame: 3 × 4</caption>\n",
              "<thead>\n",
              "\t<tr><th></th><th scope=col>Country</th><th scope=col>Continent</th><th scope=col>Mean_Years_Of_Schooling_Years_2022</th><th scope=col>Gross_National_Income_Per_Capital_2022</th></tr>\n",
              "\t<tr><th></th><th scope=col>&lt;chr&gt;</th><th scope=col>&lt;chr&gt;</th><th scope=col>&lt;dbl&gt;</th><th scope=col>&lt;int&gt;</th></tr>\n",
              "</thead>\n",
              "<tbody>\n",
              "\t<tr><th scope=row>1</th><td>Afghanistan</td><td>Asia</td><td>2.5</td><td>1335</td></tr>\n",
              "\t<tr><th scope=row>86</th><td>Pakistan   </td><td>Asia</td><td>4.4</td><td>5374</td></tr>\n",
              "\t<tr><th scope=row>122</th><td>Yemen      </td><td>Asia</td><td>2.8</td><td>1106</td></tr>\n",
              "</tbody>\n",
              "</table>\n"
            ],
            "text/markdown": "\nA data.frame: 3 × 4\n\n| <!--/--> | Country &lt;chr&gt; | Continent &lt;chr&gt; | Mean_Years_Of_Schooling_Years_2022 &lt;dbl&gt; | Gross_National_Income_Per_Capital_2022 &lt;int&gt; |\n|---|---|---|---|---|\n| 1 | Afghanistan | Asia | 2.5 | 1335 |\n| 86 | Pakistan    | Asia | 4.4 | 5374 |\n| 122 | Yemen       | Asia | 2.8 | 1106 |\n\n",
            "text/latex": "A data.frame: 3 × 4\n\\begin{tabular}{r|llll}\n  & Country & Continent & Mean\\_Years\\_Of\\_Schooling\\_Years\\_2022 & Gross\\_National\\_Income\\_Per\\_Capital\\_2022\\\\\n  & <chr> & <chr> & <dbl> & <int>\\\\\n\\hline\n\t1 & Afghanistan & Asia & 2.5 & 1335\\\\\n\t86 & Pakistan    & Asia & 4.4 & 5374\\\\\n\t122 & Yemen       & Asia & 2.8 & 1106\\\\\n\\end{tabular}\n",
            "text/plain": [
              "    Country     Continent Mean_Years_Of_Schooling_Years_2022\n",
              "1   Afghanistan Asia      2.5                               \n",
              "86  Pakistan    Asia      4.4                               \n",
              "122 Yemen       Asia      2.8                               \n",
              "    Gross_National_Income_Per_Capital_2022\n",
              "1   1335                                  \n",
              "86  5374                                  \n",
              "122 1106                                  "
            ]
          },
          "metadata": {}
        },
        {
          "output_type": "stream",
          "name": "stdout",
          "text": [
            "[1] \"______________________________________________________________________\"\n"
          ]
        },
        {
          "output_type": "display_data",
          "data": {
            "text/html": [
              "<table class=\"dataframe\">\n",
              "<caption>A data.frame: 15 × 4</caption>\n",
              "<thead>\n",
              "\t<tr><th></th><th scope=col>Country</th><th scope=col>Continent</th><th scope=col>Mean_Years_Of_Schooling_Years_2022</th><th scope=col>Gross_National_Income_Per_Capital_2022</th></tr>\n",
              "\t<tr><th></th><th scope=col>&lt;chr&gt;</th><th scope=col>&lt;chr&gt;</th><th scope=col>&lt;dbl&gt;</th><th scope=col>&lt;int&gt;</th></tr>\n",
              "</thead>\n",
              "<tbody>\n",
              "\t<tr><th scope=row>14</th><td>Benin                   </td><td>Africa</td><td>3.1</td><td>3406</td></tr>\n",
              "\t<tr><th scope=row>18</th><td>Burundi                 </td><td>Africa</td><td>3.3</td><td> 712</td></tr>\n",
              "\t<tr><th scope=row>22</th><td>Central African Republic</td><td>Africa</td><td>4.0</td><td> 869</td></tr>\n",
              "\t<tr><th scope=row>39</th><td>Gambia                  </td><td>Africa</td><td>4.5</td><td>2090</td></tr>\n",
              "\t<tr><th scope=row>44</th><td>Guinea                  </td><td>Africa</td><td>2.4</td><td>2404</td></tr>\n",
              "\t<tr><th scope=row>64</th><td>Lesotho                 </td><td>Africa</td><td>7.5</td><td>2709</td></tr>\n",
              "\t<tr><th scope=row>68</th><td>Malawi                  </td><td>Africa</td><td>5.2</td><td>1432</td></tr>\n",
              "\t<tr><th scope=row>70</th><td>Mali                    </td><td>Africa</td><td>1.6</td><td>2044</td></tr>\n",
              "\t<tr><th scope=row>72</th><td>Mauritania              </td><td>Africa</td><td>4.8</td><td>5344</td></tr>\n",
              "\t<tr><th scope=row>77</th><td>Mozambique              </td><td>Africa</td><td>3.9</td><td>1219</td></tr>\n",
              "\t<tr><th scope=row>84</th><td>Niger                   </td><td>Africa</td><td>1.3</td><td>1283</td></tr>\n",
              "\t<tr><th scope=row>100</th><td>Senegal                 </td><td>Africa</td><td>2.9</td><td>3464</td></tr>\n",
              "\t<tr><th scope=row>101</th><td>Sierra Leone            </td><td>Africa</td><td>3.5</td><td>1613</td></tr>\n",
              "\t<tr><th scope=row>106</th><td>Sudan                   </td><td>Africa</td><td>3.9</td><td>3515</td></tr>\n",
              "\t<tr><th scope=row>111</th><td>Togo                    </td><td>Africa</td><td>5.6</td><td>2214</td></tr>\n",
              "</tbody>\n",
              "</table>\n"
            ],
            "text/markdown": "\nA data.frame: 15 × 4\n\n| <!--/--> | Country &lt;chr&gt; | Continent &lt;chr&gt; | Mean_Years_Of_Schooling_Years_2022 &lt;dbl&gt; | Gross_National_Income_Per_Capital_2022 &lt;int&gt; |\n|---|---|---|---|---|\n| 14 | Benin                    | Africa | 3.1 | 3406 |\n| 18 | Burundi                  | Africa | 3.3 |  712 |\n| 22 | Central African Republic | Africa | 4.0 |  869 |\n| 39 | Gambia                   | Africa | 4.5 | 2090 |\n| 44 | Guinea                   | Africa | 2.4 | 2404 |\n| 64 | Lesotho                  | Africa | 7.5 | 2709 |\n| 68 | Malawi                   | Africa | 5.2 | 1432 |\n| 70 | Mali                     | Africa | 1.6 | 2044 |\n| 72 | Mauritania               | Africa | 4.8 | 5344 |\n| 77 | Mozambique               | Africa | 3.9 | 1219 |\n| 84 | Niger                    | Africa | 1.3 | 1283 |\n| 100 | Senegal                  | Africa | 2.9 | 3464 |\n| 101 | Sierra Leone             | Africa | 3.5 | 1613 |\n| 106 | Sudan                    | Africa | 3.9 | 3515 |\n| 111 | Togo                     | Africa | 5.6 | 2214 |\n\n",
            "text/latex": "A data.frame: 15 × 4\n\\begin{tabular}{r|llll}\n  & Country & Continent & Mean\\_Years\\_Of\\_Schooling\\_Years\\_2022 & Gross\\_National\\_Income\\_Per\\_Capital\\_2022\\\\\n  & <chr> & <chr> & <dbl> & <int>\\\\\n\\hline\n\t14 & Benin                    & Africa & 3.1 & 3406\\\\\n\t18 & Burundi                  & Africa & 3.3 &  712\\\\\n\t22 & Central African Republic & Africa & 4.0 &  869\\\\\n\t39 & Gambia                   & Africa & 4.5 & 2090\\\\\n\t44 & Guinea                   & Africa & 2.4 & 2404\\\\\n\t64 & Lesotho                  & Africa & 7.5 & 2709\\\\\n\t68 & Malawi                   & Africa & 5.2 & 1432\\\\\n\t70 & Mali                     & Africa & 1.6 & 2044\\\\\n\t72 & Mauritania               & Africa & 4.8 & 5344\\\\\n\t77 & Mozambique               & Africa & 3.9 & 1219\\\\\n\t84 & Niger                    & Africa & 1.3 & 1283\\\\\n\t100 & Senegal                  & Africa & 2.9 & 3464\\\\\n\t101 & Sierra Leone             & Africa & 3.5 & 1613\\\\\n\t106 & Sudan                    & Africa & 3.9 & 3515\\\\\n\t111 & Togo                     & Africa & 5.6 & 2214\\\\\n\\end{tabular}\n",
            "text/plain": [
              "    Country                  Continent Mean_Years_Of_Schooling_Years_2022\n",
              "14  Benin                    Africa    3.1                               \n",
              "18  Burundi                  Africa    3.3                               \n",
              "22  Central African Republic Africa    4.0                               \n",
              "39  Gambia                   Africa    4.5                               \n",
              "44  Guinea                   Africa    2.4                               \n",
              "64  Lesotho                  Africa    7.5                               \n",
              "68  Malawi                   Africa    5.2                               \n",
              "70  Mali                     Africa    1.6                               \n",
              "72  Mauritania               Africa    4.8                               \n",
              "77  Mozambique               Africa    3.9                               \n",
              "84  Niger                    Africa    1.3                               \n",
              "100 Senegal                  Africa    2.9                               \n",
              "101 Sierra Leone             Africa    3.5                               \n",
              "106 Sudan                    Africa    3.9                               \n",
              "111 Togo                     Africa    5.6                               \n",
              "    Gross_National_Income_Per_Capital_2022\n",
              "14  3406                                  \n",
              "18   712                                  \n",
              "22   869                                  \n",
              "39  2090                                  \n",
              "44  2404                                  \n",
              "64  2709                                  \n",
              "68  1432                                  \n",
              "70  2044                                  \n",
              "72  5344                                  \n",
              "77  1219                                  \n",
              "84  1283                                  \n",
              "100 3464                                  \n",
              "101 1613                                  \n",
              "106 3515                                  \n",
              "111 2214                                  "
            ]
          },
          "metadata": {}
        }
      ]
    },
    {
      "cell_type": "code",
      "source": [
        "# Find the HDI of the African nation having least Mean_Years_Of_Schooling_Years_2022.\n",
        "# Compare the details of this country with the details of the African country that has the\n",
        "# lowest Gross_National_Income_Per_Capital_2022 amongst the African nations.\n",
        "\n",
        "filepath = 'https://raw.githubusercontent.com/AnmolDixitB13/R/main/Case%20study%202/cleaned_hdi_with_calculations.csv'\n",
        "# the place (on github) where the dataset file is stored\n",
        "\n",
        "data <- read.csv(filepath)\n",
        "\n",
        "filtered_data <- subset(data, Continent == \"Africa\")\n",
        "# print(filtered_data)\n",
        "\n",
        "final_data <- subset(filtered_data, Mean_Years_Of_Schooling_Years_2022 == min(Mean_Years_Of_Schooling_Years_2022), select = c(Country, HDI_2022, Mean_Years_Of_Schooling_Years_2022, Gross_National_Income_Per_Capital_2022))\n",
        "\n",
        "cat(\"African nation with least Mean_Years_Of_Schooling_Years_2022\\n\")\n",
        "print(paste0(\"Country: \", final_data$Country))\n",
        "print(paste0(\"HDI in 2022: \", final_data$HDI_2022))\n",
        "print(paste0(\"Mean years of schooling in 2022: \", final_data$Mean_Years_Of_Schooling_Years_2022))\n",
        "print(paste0(\"Gross National Income Per Capital in 2022: \", final_data$Gross_National_Income_Per_Capital_2022))\n",
        "\n",
        "cat('\\n')\n",
        "print(\"_______________________________________________________________________\")\n",
        "cat(\"\\n\")\n",
        "\n",
        "final_data2 <- subset(filtered_data, Gross_National_Income_Per_Capital_2022 == min(Gross_National_Income_Per_Capital_2022), select = c(Country, HDI_2022, Mean_Years_Of_Schooling_Years_2022, Gross_National_Income_Per_Capital_2022))\n",
        "\n",
        "cat(\"African nation with least Gross_National_Income_Per_Capital_2022\", \"\\n\")\n",
        "print(paste0(\"Country: \", final_data2$Country))\n",
        "print(paste0(\"HDI in 2022: \", final_data2$HDI_2022))\n",
        "print(paste0(\"Mean years of schooling in 2022: \", final_data2$Mean_Years_Of_Schooling_Years_2022))\n",
        "print(paste0(\"Gross National Income Per Capital in 2022: \", final_data2$Gross_National_Income_Per_Capital_2022))\n"
      ],
      "metadata": {
        "colab": {
          "base_uri": "https://localhost:8080/"
        },
        "id": "VjTG9pH1Jl67",
        "outputId": "887f353c-5bbd-4820-f9a5-60c41d242d8d"
      },
      "execution_count": null,
      "outputs": [
        {
          "output_type": "stream",
          "name": "stdout",
          "text": [
            "African nation with least Mean_Years_Of_Schooling_Years_2022\n",
            "[1] \"Country: Niger\"\n",
            "[1] \"HDI in 2022: 0.394\"\n",
            "[1] \"Mean years of schooling in 2022: 1.3\"\n",
            "[1] \"Gross National Income Per Capital in 2022: 1283\"\n",
            "\n",
            "[1] \"_______________________________________________________________________\"\n",
            "\n",
            "African nation with least Gross_National_Income_Per_Capital_2022 \n",
            "[1] \"Country: Burundi\"\n",
            "[1] \"HDI in 2022: 0.42\"\n",
            "[1] \"Mean years of schooling in 2022: 3.3\"\n",
            "[1] \"Gross National Income Per Capital in 2022: 712\"\n"
          ]
        }
      ]
    },
    {
      "cell_type": "code",
      "source": [
        "# Fetch & compare & calculate the percentage difference in the Gross_National_Income_Per_Capital_2022\n",
        "# between countries of North America that have their HDIs in the very high tier and the countries of\n",
        "# Europe that have their HDI in the same tier\n",
        "\n",
        "PerDiff <- function(v1, v2){\n",
        "\n",
        "  v <- c(v1, v2)\n",
        "\n",
        "  num <- abs(v1 - v2)\n",
        "  den <- mean(v)\n",
        "  per_diff <- (num/den)*100\n",
        "  print(paste0(\"The percentage difference between the 2 values: \", round(per_diff, 2), \"%.\"))\n",
        "}\n",
        "\n",
        "filepath = 'https://raw.githubusercontent.com/AnmolDixitB13/R/main/Case%20study%202/cleaned_hdi_with_calculations.csv'\n",
        "# the place (on github) where the dataset file is stored\n",
        "\n",
        "data <- read.csv(filepath)\n",
        "\n",
        "filtered_data_NA <- subset(data, Continent == 'North America' & HDI_Tier == 'Very High')\n",
        "filtered_data_EU <- subset(data, Continent == 'Europe' & HDI_Tier == 'Very High')\n",
        "\n",
        "avg_gross_income_NA <- mean(filtered_data_NA$Gross_National_Income_Per_Capital_2022)\n",
        "avg_gross_income_EU <- mean(filtered_data_EU$Gross_National_Income_Per_Capital_2022)\n",
        "\n",
        "print(paste0(\"Mean gross national income for the North American Countries with very high HDI: \", round(avg_gross_income_NA, 2)))\n",
        "print(paste0(\"Mean gross national income for the European Countries with very high HDI: \", round(avg_gross_income_EU, 2)))\n",
        "\n",
        "PerDiff(avg_gross_income_NA, avg_gross_income_EU)\n",
        "\n",
        "# conclusion = higher in EU..."
      ],
      "metadata": {
        "colab": {
          "base_uri": "https://localhost:8080/"
        },
        "id": "81dKQ6fzDZO_",
        "outputId": "7b1ea7c5-de99-4a94-d77b-533d11c9e123"
      },
      "execution_count": null,
      "outputs": [
        {
          "output_type": "stream",
          "name": "stdout",
          "text": [
            "[1] \"Mean gross national income for the North American Countries with very high HDI: 36320.4\"\n",
            "[1] \"Mean gross national income for the European Countries with very high HDI: 50238.23\"\n",
            "[1] \"The percentage difference between the 2 values: 32.16%.\"\n"
          ]
        }
      ]
    },
    {
      "cell_type": "code",
      "source": [
        "# Fetch & compare & calculate the percentage difference in the Gross_National_Income_Per_Capital_2022\n",
        "# between the countries of Asia that have their HDIs in the low tier and the countries of Africa\n",
        "# that have their HDI in the same tier\n",
        "\n",
        "PerDiff <- function(v1, v2){\n",
        "\n",
        "  v <- c(v1, v2)\n",
        "\n",
        "  num <- abs(v1 - v2)\n",
        "  den <- mean(v)\n",
        "  per_diff <- (num/den)*100\n",
        "  print(paste0(\"The percentage difference between the 2 values: \", round(per_diff, 2), \"%.\"))\n",
        "}\n",
        "\n",
        "filepath = 'https://raw.githubusercontent.com/AnmolDixitB13/R/main/Case%20study%202/cleaned_hdi_with_calculations.csv'\n",
        "# the place (on github) where the dataset file is stored\n",
        "\n",
        "data <- read.csv(filepath)\n",
        "\n",
        "filtered_data_asia <- subset(data, Continent == 'Asia' & HDI_Tier == 'Low', select = c(Country, Continent, HDI_Tier, Gross_National_Income_Per_Capital_2022))\n",
        "filtered_data_africa <- subset(data, Continent == 'Africa' & HDI_Tier == 'Low', select = c(Country, Continent, HDI_Tier, Gross_National_Income_Per_Capital_2022))\n",
        "\n",
        "# print(filtered_data_asia)\n",
        "# print(filtered_data_africa)\n",
        "\n",
        "avg_gross_income_asia <- mean(filtered_data_asia$Gross_National_Income_Per_Capital_2022)\n",
        "avg_gross_income_africa <- mean(filtered_data_africa$Gross_National_Income_Per_Capital_2022)\n",
        "\n",
        "print(paste0(\"Mean gross national income for the Asian Countries with low HDI: \", round(avg_gross_income_asia, 2)))\n",
        "print(paste0(\"Mean gross national income for the African Countries with low HDI: \", round(avg_gross_income_africa, 2)))\n",
        "\n",
        "PerDiff(avg_gross_income_asia, avg_gross_income_africa)\n",
        "\n",
        "# conclusion = higher in Asia"
      ],
      "metadata": {
        "colab": {
          "base_uri": "https://localhost:8080/"
        },
        "id": "6MjerjDSDZlu",
        "outputId": "7f798cd9-1230-4519-9e1a-263e47a9946d"
      },
      "execution_count": null,
      "outputs": [
        {
          "output_type": "stream",
          "name": "stdout",
          "text": [
            "[1] \"Mean gross national income for the Asian Countries with low HDI: 2605\"\n",
            "[1] \"Mean gross national income for the African Countries with low HDI: 2287.87\"\n",
            "[1] \"The percentage difference between the 2 values: 12.96%.\"\n"
          ]
        }
      ]
    },
    {
      "cell_type": "code",
      "source": [
        "# Fetch & compare & compute the percentage difference in the Gross_National_Income_Per_Capital_2022\n",
        "# between the countries of North America that have their HDIs in the very high tier and the countries\n",
        "# of Africa that have their HDI in the low tier\n",
        "\n",
        "PerDiff <- function(v1, v2){\n",
        "\n",
        "  v <- c(v1, v2)\n",
        "\n",
        "  num <- abs(v1 - v2)\n",
        "  den <- mean(v)\n",
        "  per_diff <- (num/den)*100\n",
        "  print(paste0(\"The percentage difference between the 2 values: \", round(per_diff, 2), \"%.\"))\n",
        "}\n",
        "\n",
        "filepath = 'https://raw.githubusercontent.com/AnmolDixitB13/R/main/Case%20study%202/cleaned_hdi_with_calculations.csv'\n",
        "# the place (on github) where the dataset file is stored\n",
        "\n",
        "data <- read.csv(filepath)\n",
        "\n",
        "filtered_data_NA <- subset(data, Continent == 'North America' & HDI_Tier == 'Very High', select = c(Country, Continent, HDI_Tier, Gross_National_Income_Per_Capital_2022))\n",
        "filtered_data_africa <- subset(data, Continent == 'Africa' & HDI_Tier == 'Low', select = c(Country, Continent, HDI_Tier, Gross_National_Income_Per_Capital_2022))\n",
        "\n",
        "avg_gross_income_NA <- mean(filtered_data_NA$Gross_National_Income_Per_Capital_2022)\n",
        "avg_gross_income_africa <- mean(filtered_data_africa$Gross_National_Income_Per_Capital_2022)\n",
        "\n",
        "print(paste0(\"Mean gross national income for the North American Countries with very high HDI: \", round(avg_gross_income_NA, 2)))\n",
        "print(paste0(\"Mean gross national income for the African Countries with low HDI: \", round(avg_gross_income_africa, 2)))\n",
        "\n",
        "PerDiff(avg_gross_income_NA, avg_gross_income_africa)\n",
        "\n",
        "# conclusion = tremendously higher in NA"
      ],
      "metadata": {
        "colab": {
          "base_uri": "https://localhost:8080/"
        },
        "id": "kmc96sPcDZ2w",
        "outputId": "80663035-a528-4727-e949-2ceac7bc5e3a"
      },
      "execution_count": null,
      "outputs": [
        {
          "output_type": "stream",
          "name": "stdout",
          "text": [
            "[1] \"Mean gross national income for the North American Countries with very high HDI: 36320.4\"\n",
            "[1] \"Mean gross national income for the African Countries with low HDI: 2287.87\"\n",
            "[1] \"The percentage difference between the 2 values is: 176.3%.\"\n"
          ]
        }
      ]
    },
    {
      "cell_type": "code",
      "source": [
        "# Fetch & compare & calculate the percentage difference in the Gross_National_Income_Per_Capital_2022\n",
        "# between countries of North America that have their HDIs in the very high tier and the countries of\n",
        "# Asia that have their HDI in the same tier.\n",
        "\n",
        "PerDiff <- function(v1, v2){\n",
        "\n",
        "  v <- c(v1, v2)\n",
        "\n",
        "  num <- abs(v1 - v2)\n",
        "  den <- mean(v)\n",
        "  per_diff <- (num/den)*100\n",
        "  print(paste0(\"The percentage difference between the 2 values: \", round(per_diff, 2), \"%.\"))\n",
        "}\n",
        "\n",
        "filepath = 'https://raw.githubusercontent.com/AnmolDixitB13/R/main/Case%20study%202/cleaned_hdi_with_calculations.csv'\n",
        "# the place (on github) where the dataset file is stored\n",
        "\n",
        "data <- read.csv(filepath)\n",
        "\n",
        "filtered_data_NA <- subset(data, Continent == 'North America' & HDI_Tier == 'Very High', select = c(Country, Continent, HDI_Tier, Gross_National_Income_Per_Capital_2022))\n",
        "filtered_data_Asia <- subset(data, Continent == 'Asia' & HDI_Tier == 'Very High', select = c(Country, Continent, HDI_Tier, Gross_National_Income_Per_Capital_2022))\n",
        "\n",
        "# print(filtered_data_NA)\n",
        "# print(filtered_data_Asia)\n",
        "\n",
        "avg_gross_income_NA <- mean(filtered_data_NA$Gross_National_Income_Per_Capital_2022)\n",
        "avg_gross_income_Asia <- mean(filtered_data_Asia$Gross_National_Income_Per_Capital_2022)\n",
        "\n",
        "print(paste0(\"Mean gross national income for the North American Countries with very high HDI: \", round(avg_gross_income_NA, 2)))\n",
        "print(paste0(\"Mean gross national income for the Asian Countries with very high HDI: \", round(avg_gross_income_Asia, 2)))\n",
        "\n",
        "PerDiff(avg_gross_income_NA, avg_gross_income_Asia)\n",
        "\n",
        "# surprisingly higher in Asia\n",
        "# 1. middle east countries in this HDI Tier have much higher gross national income than many/almost all\n",
        "# countries of Asia & NA in this HDI Tier\n",
        "# 2. no. of countries in this HDI Tier in Asia outnumber the ones in NA"
      ],
      "metadata": {
        "colab": {
          "base_uri": "https://localhost:8080/"
        },
        "id": "o4iUDhBsPD8L",
        "outputId": "16271ec6-77b1-42b2-b863-6825a8006224"
      },
      "execution_count": null,
      "outputs": [
        {
          "output_type": "stream",
          "name": "stdout",
          "text": [
            "[1] \"Mean gross national income for the North American Countries with very high HDI: 36320.4\"\n",
            "[1] \"Mean gross national income for the Asian Countries with very high HDI: 51717.27\"\n",
            "[1] \"The percentage difference between the 2 values: 34.98%.\"\n"
          ]
        }
      ]
    },
    {
      "cell_type": "code",
      "source": [
        "# Fetch & compare & calculate the percentage difference in the Mean_Years_Of_Schooling_Years_2022 between:\n",
        "# the countries of North America that have their HDIs in the very high tier and the countries of Europe\n",
        "# that have their HDI in the same tier.\n",
        "\n",
        "PerDiff <- function(v1, v2){\n",
        "\n",
        "  v <- c(v1, v2)\n",
        "\n",
        "  num <- abs(v1 - v2)\n",
        "  den <- mean(v)\n",
        "  per_diff <- (num/den)*100\n",
        "  print(paste0(\"The percentage difference between the 2 values: \", round(per_diff, 2), \"%.\"))\n",
        "}\n",
        "\n",
        "filepath = 'https://raw.githubusercontent.com/AnmolDixitB13/R/main/Case%20study%202/cleaned_hdi_with_calculations.csv'\n",
        "# the place (on github) where the dataset file is stored\n",
        "\n",
        "data <- read.csv(filepath)\n",
        "\n",
        "filtered_data_NA <- subset(data, Continent == 'North America' & HDI_Tier == 'Very High')\n",
        "filtered_data_EU <- subset(data, Continent == 'Europe' & HDI_Tier == 'Very High')\n",
        "\n",
        "mean_schooling_years_NA <- mean(filtered_data_NA$Mean_Years_Of_Schooling_Years_2022)\n",
        "mean_schooling_years_EU <- mean(filtered_data_EU$Mean_Years_Of_Schooling_Years_2022)\n",
        "\n",
        "print(paste0(\"Mean years of schooling for North American countries having their HDI in very high tier: \", round(mean_schooling_years_NA, 2)))\n",
        "print(paste0(\"Mean years of schooling for European countries having their HDI in very high tier: \", round(mean_schooling_years_EU, 2)))\n",
        "\n",
        "PerDiff(mean_schooling_years_NA, mean_schooling_years_EU)\n",
        "\n",
        "# conclusion = slight/marginal difference\n"
      ],
      "metadata": {
        "colab": {
          "base_uri": "https://localhost:8080/"
        },
        "id": "fUo68ZAHOw1z",
        "outputId": "56f21b07-4fb9-41b9-d295-562bd2ebcd7f"
      },
      "execution_count": null,
      "outputs": [
        {
          "output_type": "stream",
          "name": "stdout",
          "text": [
            "[1] \"Mean years of schooling for North American countries having their HDI in very high tier: 11.78\"\n",
            "[1] \"Mean years of schooling for European countries having their HDI in very high tier: 12.42\"\n",
            "[1] \"The percentage difference between the 2 values: 5.31%.\"\n"
          ]
        }
      ]
    },
    {
      "cell_type": "code",
      "source": [
        "# Fetch & compare & calculate the percentage difference in the Mean_Years_Of_Schooling_Years_2022 between\n",
        "# the countries of Asia that have their HDIs in the low tier and the countries of Africa\n",
        "# that have their HDI in the same tier.\n",
        "\n",
        "PerDiff <- function(v1, v2){\n",
        "\n",
        "  v <- c(v1, v2)\n",
        "\n",
        "  num <- abs(v1 - v2)\n",
        "  den <- mean(v)\n",
        "  per_diff <- (num/den)*100\n",
        "  print(paste0(\"The percentage difference between the 2 values: \", round(per_diff, 2), \"%.\"))\n",
        "}\n",
        "\n",
        "filepath = 'https://raw.githubusercontent.com/AnmolDixitB13/R/main/Case%20study%202/cleaned_hdi_with_calculations.csv'\n",
        "# the place (on github) where the dataset file is stored\n",
        "\n",
        "data <- read.csv(filepath)\n",
        "\n",
        "filtered_data_asia <- subset(data, Continent == 'Asia' & HDI_Tier == 'Low', select = c(Country, Continent, HDI_Tier, Mean_Years_Of_Schooling_Years_2022))\n",
        "filtered_data_africa <- subset(data, Continent == 'Africa' & HDI_Tier == 'Low', select = c(Country, Continent, HDI_Tier, Mean_Years_Of_Schooling_Years_2022))\n",
        "\n",
        "mean_schooling_years_asia <- mean(filtered_data_asia$Mean_Years_Of_Schooling_Years_2022)\n",
        "mean_schooling_years_africa <- mean(filtered_data_africa$Mean_Years_Of_Schooling_Years_2022)\n",
        "\n",
        "print(paste0(\"Mean schooling years for Asian countries having their HDI in the Low tier: \", round(mean_schooling_years_asia, 2)))\n",
        "print(paste0(\"Mean schooling years for African countries having their HDI in the Low tier: \", round(mean_schooling_years_africa, 2)))\n",
        "\n",
        "PerDiff(mean_schooling_years_asia, mean_schooling_years_africa)\n",
        "\n",
        "# Surprisingly, this figure was found to be low for Asia instead of Africa, a different situation\n",
        "# than the one usually anticipated by majority of the people based on little knowledge they usually\n",
        "# have on Asia & Africa\n"
      ],
      "metadata": {
        "colab": {
          "base_uri": "https://localhost:8080/"
        },
        "id": "OKw_Aj5DOwcr",
        "outputId": "a961517f-4566-49a2-e051-59e5f5eddfee"
      },
      "execution_count": null,
      "outputs": [
        {
          "output_type": "stream",
          "name": "stdout",
          "text": [
            "[1] \"Mean schooling years for Asian countries having their HDI in the Low tier: 3.23\"\n",
            "[1] \"Mean schooling years for African countries having their HDI in the Low tier: 3.83\"\n",
            "[1] \"The percentage difference between the 2 values: 16.98%.\"\n"
          ]
        }
      ]
    },
    {
      "cell_type": "code",
      "source": [
        "# Fetch & compare & calculate the percentage difference in the Mean_Years_Of_Schooling_Years_2022 between\n",
        "# the countries of North America that have their HDIs in the very high tier and the countries of Africa\n",
        "# that have their HDI in the low tier.\n",
        "\n",
        "PerDiff <- function(v1, v2){\n",
        "\n",
        "  v <- c(v1, v2)\n",
        "\n",
        "  num <- abs(v1 - v2)\n",
        "  den <- mean(v)\n",
        "  per_diff <- (num/den)*100\n",
        "  print(paste0(\"The percentage difference between the 2 values is: \", round(per_diff, 2), \"%.\"))\n",
        "}\n",
        "\n",
        "filepath = 'https://raw.githubusercontent.com/AnmolDixitB13/R/main/Case%20study%202/cleaned_hdi_with_calculations.csv'\n",
        "# the place (on github) where the dataset file is stored\n",
        "\n",
        "data <- read.csv(filepath)\n",
        "\n",
        "filtered_data_NA <- subset(data, Continent == 'North America' & HDI_Tier == 'Very High', select = c(Country, Continent, HDI_Tier, Mean_Years_Of_Schooling_Years_2022))\n",
        "filtered_data_africa <- subset(data, Continent == 'Africa' & HDI_Tier == 'Low', select = c(Country, Continent, HDI_Tier, Mean_Years_Of_Schooling_Years_2022))\n",
        "\n",
        "mean_schooling_years_NA <- mean(filtered_data_NA$Mean_Years_Of_Schooling_Years_2022)\n",
        "mean_schooling_years_africa <- mean(filtered_data_africa$Mean_Years_Of_Schooling_Years_2022)\n",
        "\n",
        "print(paste0(\"Mean years of schooling for North American countries with very high HDI: \", round(mean_schooling_years_NA, 2)))\n",
        "print(paste0(\"Mean years of schooling for African countries with low HDI: \", round(mean_schooling_years_africa, 2)))\n",
        "\n",
        "PerDiff(mean_schooling_years_NA, mean_schooling_years_africa)\n",
        "\n",
        "# conclusion = diff is tremendously high between the 2 groups of countries\n"
      ],
      "metadata": {
        "colab": {
          "base_uri": "https://localhost:8080/"
        },
        "id": "zrYylyj5OxVD",
        "outputId": "79064e23-79f7-40d4-9912-b911e138a98c"
      },
      "execution_count": null,
      "outputs": [
        {
          "output_type": "stream",
          "name": "stdout",
          "text": [
            "[1] \"Mean years of schooling for North American countries with very high HDI: 11.78\"\n",
            "[1] \"Mean years of schooling for African countries with low HDI: 3.83\"\n",
            "[1] \"The percentage difference between the 2 values is: 101.79%.\"\n"
          ]
        }
      ]
    },
    {
      "cell_type": "code",
      "source": [
        "# Fetch & compare & calculate the percentage difference in the Mean_Years_Of_Schooling_Years_2022 between\n",
        "# countries of North America that have their HDIs in the very high tier and the countries of Asia\n",
        "# that have their HDI in the same tier.\n",
        "\n",
        "PerDiff <- function(v1, v2){\n",
        "\n",
        "  v <- c(v1, v2)\n",
        "\n",
        "  num <- abs(v1 - v2)\n",
        "  den <- mean(v)\n",
        "  per_diff <- (num/den)*100\n",
        "  print(paste0(\"The percentage difference between the 2 values is: \", round(per_diff, 2), \"%.\"))\n",
        "}\n",
        "\n",
        "filepath = 'https://raw.githubusercontent.com/AnmolDixitB13/R/main/Case%20study%202/cleaned_hdi_with_calculations.csv'\n",
        "# the place (on github) where the dataset file is stored\n",
        "\n",
        "data <- read.csv(filepath)\n",
        "\n",
        "filtered_data_NA <- subset(data, Continent == 'North America' & HDI_Tier == 'Very High', select = c(Country, Continent, HDI_Tier, Mean_Years_Of_Schooling_Years_2022))\n",
        "filtered_data_asia <- subset(data, Continent == 'Asia' & HDI_Tier == 'Very High', select = c(Country, Continent, HDI_Tier, Mean_Years_Of_Schooling_Years_2022))\n",
        "\n",
        "mean_schooling_years_NA <- mean(filtered_data_NA$Mean_Years_Of_Schooling_Years_2022)\n",
        "mean_schooling_years_asia <- mean(filtered_data_asia$Mean_Years_Of_Schooling_Years_2022)\n",
        "\n",
        "print(paste0(\"Mean schooling years of the North American countries with very high HDI:\", round(mean_schooling_years_NA, 2)))\n",
        "print(paste0(\"Mean schooling years of the Asian countries with very high HDI:\", round(mean_schooling_years_asia, 2)))\n",
        "\n",
        "PerDiff(mean_schooling_years_NA, mean_schooling_years_asia)\n",
        "\n",
        "# conclusion = slight difference was observed"
      ],
      "metadata": {
        "colab": {
          "base_uri": "https://localhost:8080/"
        },
        "id": "-16csi_6T6tl",
        "outputId": "c4618633-32d0-4278-9a77-e15c41a0ceb9"
      },
      "execution_count": null,
      "outputs": [
        {
          "output_type": "stream",
          "name": "stdout",
          "text": [
            "[1] \"Mean schooling years of the North American countries with very high HDI:11.78\"\n",
            "[1] \"Mean schooling years of the Asian countries with very high HDI:11.14\"\n",
            "[1] \"The percentage difference between the 2 values is: 5.62%.\"\n"
          ]
        }
      ]
    },
    {
      "cell_type": "code",
      "source": [
        "# Create a separate CSV file for each continent, which is mentioned in the dataset file. The CSV\n",
        "# file that will be generated, should contain statistics of that respective continent i.e. it should\n",
        "# contain the following details about the continent:\n",
        "#\n",
        "# 1. Total no. of countries present on that continent (whose data is present in the dataset file)\n",
        "# 2. Countries on that continent whose HDI improved in the year 2022 w.r.t. the year 2021\n",
        "# 3. Countries on that continent whose HDI deteriorated in the year 2022 w.r.t. the year 2021\n",
        "# 4. Countries on that continent whose HDI remained constant in the year 2022 w.r.t. the year 2021\n",
        "\n",
        "\n",
        "filepath = 'https://raw.githubusercontent.com/AnmolDixitB13/R/main/Case%20study%202/cleaned_hdi_with_calculations.csv'\n",
        "# the place (on github) where the dataset file is stored\n",
        "\n",
        "data <- read.csv(filepath)\n",
        "# str(data)\n",
        "\n",
        "# find out all the continents present in the dataset file using factors()\n",
        "\n",
        "fac_cont <- factor(data$Continent)\n",
        "cont_list <- c(levels(fac_cont))\n",
        "# print(cont_list)\n",
        "# print(length(cont_list))  # 7\n",
        "\n",
        "# creating a vector to store the count values i.e. values/counts of countries of each\n",
        "# continent whose hdi has improved/deterioraated/remained constant\n",
        "\n",
        "count <- c(0, 0, 0)   # creating a counter i.e. a vector that will act as a counter\n",
        "\n",
        "# filtering data\n",
        "for(i in 1:length(cont_list)){\n",
        "  filtered_data <- subset(data, data$Continent == cont_list[i])\n",
        "  count <- c(0, 0, 0)   # reinitializing counter to 0\n",
        "\n",
        "# counting statistics\n",
        "  for(j in 1:nrow(filtered_data)){\n",
        "\n",
        "    total_countries_on_continent <- nrow(filtered_data)\n",
        "\n",
        "    if(filtered_data$Change_HDI_2022_21[j] > 0){\n",
        "      count[1] <- count[1] + 1\n",
        "    }\n",
        "    if(filtered_data$Change_HDI_2022_21[j] < 0){\n",
        "      count[2] <- count[2] + 1\n",
        "    }\n",
        "    if(filtered_data$Change_HDI_2022_21[j] == 0){\n",
        "      count[3] <- count[3] + 1\n",
        "    }\n",
        "  }\n",
        "# transferring the data to a separate CSV file\n",
        "# print(count)\n",
        "\n",
        "col_names = c(\"Total Countries on the Continent (which are present in the dataset)\", \"Countries with improved HDI in 2022\", \"Countries with deteriorated HDI in 2022\", \"Countries whose HDI remained constant in 2022\")\n",
        "file_data <- c(total_countries_on_continent, count[1], count[2], count[3])\n",
        "\n",
        "df <- data.frame(col_names, file_data)\n",
        "write.csv(df, paste0(\"Continent_\", cont_list[i], \".csv\"))\n",
        "}"
      ],
      "metadata": {
        "id": "Cuq8GlzFPfW1"
      },
      "execution_count": null,
      "outputs": []
    },
    {
      "cell_type": "code",
      "source": [
        "library(caTools)\n",
        "\n",
        "filepath = 'https://raw.githubusercontent.com/AnmolDixitB13/R/main/Case%20study%202/cleaned_hdi_with_calculations.csv'\n",
        "# the place (on github) where the dataset file is stored\n",
        "\n",
        "data <- read.csv(filepath)\n",
        "\n",
        "set.seed(123)\n",
        "split <- sample.split(data$HDI_2022, SplitRatio = 0.5)\n",
        "# training_set <- subset(data, split == TRUE)\n",
        "# testing_set <- subset(data, split == FALSE)\n",
        "\n",
        "print(split)"
      ],
      "metadata": {
        "colab": {
          "base_uri": "https://localhost:8080/"
        },
        "id": "uw2BRG0lDs0k",
        "outputId": "94cf44a2-535f-41bc-dfb9-aed4ca44fd73"
      },
      "execution_count": null,
      "outputs": [
        {
          "output_type": "stream",
          "name": "stdout",
          "text": [
            "  [1]  TRUE FALSE  TRUE FALSE FALSE  TRUE FALSE FALSE FALSE  TRUE FALSE  TRUE\n",
            " [13] FALSE FALSE  TRUE FALSE  TRUE  TRUE  TRUE FALSE FALSE FALSE FALSE FALSE\n",
            " [25] FALSE FALSE FALSE FALSE  TRUE  TRUE FALSE FALSE FALSE FALSE  TRUE FALSE\n",
            " [37] FALSE  TRUE  TRUE  TRUE  TRUE  TRUE  TRUE  TRUE  TRUE  TRUE  TRUE  TRUE\n",
            " [49]  TRUE FALSE  TRUE  TRUE FALSE  TRUE FALSE  TRUE  TRUE FALSE FALSE  TRUE\n",
            " [61] FALSE  TRUE  TRUE  TRUE FALSE  TRUE FALSE FALSE FALSE  TRUE FALSE FALSE\n",
            " [73] FALSE  TRUE  TRUE  TRUE  TRUE FALSE  TRUE  TRUE  TRUE FALSE  TRUE FALSE\n",
            " [85]  TRUE  TRUE FALSE FALSE FALSE  TRUE  TRUE FALSE  TRUE FALSE  TRUE  TRUE\n",
            " [97] FALSE  TRUE  TRUE FALSE FALSE  TRUE FALSE FALSE FALSE FALSE FALSE FALSE\n",
            "[109]  TRUE  TRUE FALSE  TRUE  TRUE FALSE FALSE  TRUE FALSE FALSE FALSE  TRUE\n",
            "[121] FALSE  TRUE  TRUE  TRUE\n"
          ]
        }
      ]
    },
    {
      "cell_type": "markdown",
      "source": [
        "#Conclusion\n",
        "\n",
        "Here is a list of conclusions that could be drawn from this case study:\n",
        "\n",
        "1. A positive change can be observed that could be observed from this case study is that majority of countries, from all the continents [except Antarctica because there are no countries there] have shown improvement in their HDI 2022 scores when compared with their respective HDI 2021 scores.\n",
        "\n",
        "2. The no. of countries whose HDI had either deteriorated or remained constant in the year 2022 w.r.t. the year 2021 are relatively very less on all the continents.\n",
        "\n",
        "3. The average HDI in 2022 amongst the developed countries was found to be  more than the other countries in the developing category, as anticipated usually by majority of the people.\n",
        "\n",
        "4. Countries with high HDI usually performed better in the parameters like Mean Schooling Years, Gross National Per Capital Income, Life Expectancy, and other parameters present in the dataset file and vice versa with other countries. However, sometimes there can be exceptions. Eg, on the African continent, Mauritius had slightly better HDI 2022 when compared with Algeria, but Algeria had slightly better life expectancy than Mauritius in the same year.\n",
        "\n",
        "\n",
        "[Note: Parameters of a country, as mentioned & talked about in the conclusion, referes only to the parameters which were present in the dataset csv file and do not refer/relate to the parameters which were absent in the dataset file.]"
      ],
      "metadata": {
        "id": "rnY8vForUbnB"
      }
    }
  ]
}